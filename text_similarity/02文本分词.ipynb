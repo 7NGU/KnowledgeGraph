{
 "cells": [
  {
   "cell_type": "code",
   "execution_count": 32,
   "id": "01b101a9",
   "metadata": {},
   "outputs": [],
   "source": [
    "from nltk import data, word_tokenize, download\n",
    "data.path.append(r'/root/nltk_data')"
   ]
  },
  {
   "cell_type": "code",
   "execution_count": 33,
   "id": "865494b2",
   "metadata": {},
   "outputs": [],
   "source": [
    "def get_tokens(sentence):\n",
    "    words = word_tokenize(sentence)\n",
    "    return words"
   ]
  },
  {
   "cell_type": "code",
   "execution_count": 34,
   "id": "2acf9ec3",
   "metadata": {},
   "outputs": [
    {
     "name": "stdout",
     "output_type": "stream",
     "text": [
      "['Tomorrow', 'is', 'another', 'day', '.']\n"
     ]
    }
   ],
   "source": [
    "print(get_tokens(\"Tomorrow is another day.\"))"
   ]
  },
  {
   "cell_type": "code",
   "execution_count": 35,
   "id": "25ec9607",
   "metadata": {},
   "outputs": [
    {
     "name": "stdout",
     "output_type": "stream",
     "text": [
      "【全模式】：中国/科学/科学技术/技术/大学/和/北京/北京大学/大学/都/是/中国/国一/一流/高校/东南/东南大学/南大/大学/就/差一点/一点//\n"
     ]
    }
   ],
   "source": [
    "import jieba.analyse\n",
    "\n",
    "#全模式\n",
    "seg_list = jieba.cut(\"中国科学技术大学和北京大学都是中国一流高校\"+\"东南大学就差一点。\", cut_all = True)\n",
    "print(\"【全模式】：\" + \"/\".join(seg_list))"
   ]
  },
  {
   "cell_type": "code",
   "execution_count": 36,
   "id": "87170466",
   "metadata": {},
   "outputs": [
    {
     "name": "stdout",
     "output_type": "stream",
     "text": [
      "【精确模式】：中国/科学技术/大学/和/北京大学/都/是/中国/一流/高校/东南大学/就/差一点/。\n"
     ]
    }
   ],
   "source": [
    "#精确模式\n",
    "seg_list = jieba.cut(\"中国科学技术大学和北京大学都是中国一流高校\"+\"东南大学就差一点。\", cut_all = False)\n",
    "print(\"【精确模式】：\" + \"/\".join(seg_list))"
   ]
  },
  {
   "cell_type": "code",
   "execution_count": 37,
   "id": "102eb87f",
   "metadata": {},
   "outputs": [
    {
     "name": "stdout",
     "output_type": "stream",
     "text": [
      "【搜索模式】：中国/科学/技术/科学技术/大学/和/北京/大学/北京大学/都/是/中国/一流/高校/东南/南大/大学/东南大学/就/一点/差一点/。\n"
     ]
    }
   ],
   "source": [
    "#搜索引擎模式\n",
    "seg_list = jieba.cut_for_search(\"中国科学技术大学和北京大学都是中国一流高校\"+\"东南大学就差一点。\")\n",
    "print(\"【搜索模式】：\" + \"/\".join(seg_list))"
   ]
  },
  {
   "cell_type": "code",
   "execution_count": null,
   "id": "66fbd3d7",
   "metadata": {},
   "outputs": [],
   "source": []
  },
  {
   "cell_type": "code",
   "execution_count": null,
   "id": "a3178cb3",
   "metadata": {},
   "outputs": [],
   "source": []
  }
 ],
 "metadata": {
  "kernelspec": {
   "display_name": "Python 3 (ipykernel)",
   "language": "python",
   "name": "python3"
  },
  "language_info": {
   "codemirror_mode": {
    "name": "ipython",
    "version": 3
   },
   "file_extension": ".py",
   "mimetype": "text/x-python",
   "name": "python",
   "nbconvert_exporter": "python",
   "pygments_lexer": "ipython3",
   "version": "3.7.11"
  }
 },
 "nbformat": 4,
 "nbformat_minor": 5
}
