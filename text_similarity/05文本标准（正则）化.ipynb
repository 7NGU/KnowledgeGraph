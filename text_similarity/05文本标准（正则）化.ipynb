{
 "cells": [
  {
   "cell_type": "code",
   "execution_count": 1,
   "id": "954ee0e3",
   "metadata": {},
   "outputs": [],
   "source": [
    "#将不同文本变体转变为统一形式，doing、does变为do\n",
    "#主要进行词语替换操作"
   ]
  },
  {
   "cell_type": "code",
   "execution_count": 2,
   "id": "9a6315a4",
   "metadata": {},
   "outputs": [],
   "source": [
    "sentence = \"I visited the US from the CHN on 22-10-18\""
   ]
  },
  {
   "cell_type": "code",
   "execution_count": 3,
   "id": "35e4d87c",
   "metadata": {},
   "outputs": [],
   "source": [
    "def normalize(text):\n",
    "    return text.replace(\"the US\", \"United States\").replace(\"the CHN\", \"China\").replace(\"-18\", \"-2018\")"
   ]
  },
  {
   "cell_type": "code",
   "execution_count": 4,
   "id": "94d03d9a",
   "metadata": {},
   "outputs": [
    {
     "name": "stdout",
     "output_type": "stream",
     "text": [
      "United States and China are two superpowers\n"
     ]
    }
   ],
   "source": [
    "normalized_sentence = normalize(\"the US and the CHN are two superpowers\")\n",
    "print(normalized_sentence)"
   ]
  },
  {
   "cell_type": "code",
   "execution_count": 5,
   "id": "2d69f084",
   "metadata": {},
   "outputs": [
    {
     "name": "stdout",
     "output_type": "stream",
     "text": [
      "I visited United States from China on 22-10-2018\n"
     ]
    }
   ],
   "source": [
    "normalized_sentence = normalize(sentence)\n",
    "print(normalized_sentence)"
   ]
  }
 ],
 "metadata": {
  "kernelspec": {
   "display_name": "Python 3 (ipykernel)",
   "language": "python",
   "name": "python3"
  },
  "language_info": {
   "codemirror_mode": {
    "name": "ipython",
    "version": 3
   },
   "file_extension": ".py",
   "mimetype": "text/x-python",
   "name": "python",
   "nbconvert_exporter": "python",
   "pygments_lexer": "ipython3",
   "version": "3.7.11"
  }
 },
 "nbformat": 4,
 "nbformat_minor": 5
}
