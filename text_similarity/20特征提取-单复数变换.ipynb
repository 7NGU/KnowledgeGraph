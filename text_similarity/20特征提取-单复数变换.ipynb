{
 "cells": [
  {
   "cell_type": "code",
   "execution_count": 1,
   "id": "46d4271c",
   "metadata": {},
   "outputs": [],
   "source": [
    "#使用TextBlob，适合小型NLP项目"
   ]
  },
  {
   "cell_type": "code",
   "execution_count": 2,
   "id": "b6ce5b33",
   "metadata": {},
   "outputs": [],
   "source": [
    "from nltk import data\n",
    "data.path.append(\"/Users/leonwong/nltk_data\")\n",
    "\n",
    "from textblob import TextBlob"
   ]
  },
  {
   "cell_type": "code",
   "execution_count": 3,
   "id": "98bb217a",
   "metadata": {},
   "outputs": [],
   "source": [
    "sentence = TextBlob(\"She sells seashells on the seashore\")"
   ]
  },
  {
   "cell_type": "code",
   "execution_count": 4,
   "id": "4b06ebea",
   "metadata": {},
   "outputs": [
    {
     "data": {
      "text/plain": [
       "WordList(['She', 'sells', 'seashells', 'on', 'the', 'seashore'])"
      ]
     },
     "execution_count": 4,
     "metadata": {},
     "output_type": "execute_result"
    }
   ],
   "source": [
    "#查看分词标记\n",
    "sentence.words"
   ]
  },
  {
   "cell_type": "code",
   "execution_count": 5,
   "id": "181638e7",
   "metadata": {},
   "outputs": [
    {
     "data": {
      "text/plain": [
       "[('She', 'PRP'),\n",
       " ('sells', 'VBZ'),\n",
       " ('seashells', 'NNS'),\n",
       " ('on', 'IN'),\n",
       " ('the', 'DT'),\n",
       " ('seashore', 'NN')]"
      ]
     },
     "execution_count": 5,
     "metadata": {},
     "output_type": "execute_result"
    }
   ],
   "source": [
    "#查看词性标记\n",
    "sentence.tags"
   ]
  },
  {
   "cell_type": "code",
   "execution_count": 6,
   "id": "ff35eb3d",
   "metadata": {},
   "outputs": [
    {
     "data": {
      "text/plain": [
       "'seashell'"
      ]
     },
     "execution_count": 6,
     "metadata": {},
     "output_type": "execute_result"
    }
   ],
   "source": [
    "#复数变单数\n",
    "def singularize(word):\n",
    "    return word.singularize()\n",
    "\n",
    "singularize(sentence.words[2]) #转换第三个单词"
   ]
  },
  {
   "cell_type": "code",
   "execution_count": 7,
   "id": "8e8d987a",
   "metadata": {},
   "outputs": [
    {
     "data": {
      "text/plain": [
       "'seashores'"
      ]
     },
     "execution_count": 7,
     "metadata": {},
     "output_type": "execute_result"
    }
   ],
   "source": [
    "#单数变复数\n",
    "def pluralize(word):\n",
    "    return word.pluralize()\n",
    "\n",
    "pluralize(sentence.words[5]) #转换第6个单词"
   ]
  },
  {
   "cell_type": "code",
   "execution_count": null,
   "id": "bc040bf5",
   "metadata": {},
   "outputs": [],
   "source": []
  }
 ],
 "metadata": {
  "kernelspec": {
   "display_name": "Python 3 (ipykernel)",
   "language": "python",
   "name": "python3"
  },
  "language_info": {
   "codemirror_mode": {
    "name": "ipython",
    "version": 3
   },
   "file_extension": ".py",
   "mimetype": "text/x-python",
   "name": "python",
   "nbconvert_exporter": "python",
   "pygments_lexer": "ipython3",
   "version": "3.7.11"
  }
 },
 "nbformat": 4,
 "nbformat_minor": 5
}
