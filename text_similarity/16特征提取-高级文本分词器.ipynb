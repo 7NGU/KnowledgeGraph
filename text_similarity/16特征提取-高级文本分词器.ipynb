{
 "cells": [
  {
   "cell_type": "code",
   "execution_count": 1,
   "id": "02434ea7",
   "metadata": {},
   "outputs": [],
   "source": [
    "#针对特定NLP任务的分词器\n",
    "from nltk import data\n",
    "data.path.append(\"/Users/leonwong/nltk_data\")\n",
    "\n",
    "from nltk.tokenize import word_tokenize\n",
    "from nltk.tokenize import TweetTokenizer\n",
    "from nltk.tokenize import MWETokenizer\n",
    "from nltk.tokenize import RegexpTokenizer\n",
    "from nltk.tokenize import WhitespaceTokenizer\n",
    "from nltk.tokenize import WordPunctTokenizer\n",
    "from nltk.tokenize import StanfordSegmenter"
   ]
  },
  {
   "cell_type": "code",
   "execution_count": 2,
   "id": "2761bc3a",
   "metadata": {},
   "outputs": [],
   "source": [
    "sentence = \"Don't miss the great hit. Tomorrow is another day @priscillachan728 is one of my favorite song.\""
   ]
  },
  {
   "cell_type": "code",
   "execution_count": 3,
   "id": "d23ad371",
   "metadata": {},
   "outputs": [
    {
     "data": {
      "text/plain": [
       "['Do',\n",
       " \"n't\",\n",
       " 'miss',\n",
       " 'the',\n",
       " 'great',\n",
       " 'hit',\n",
       " '.',\n",
       " 'Tomorrow',\n",
       " 'is',\n",
       " 'another',\n",
       " 'day',\n",
       " '@',\n",
       " 'priscillachan728',\n",
       " 'is',\n",
       " 'one',\n",
       " 'of',\n",
       " 'my',\n",
       " 'favorite',\n",
       " 'song',\n",
       " '.']"
      ]
     },
     "execution_count": 3,
     "metadata": {},
     "output_type": "execute_result"
    }
   ],
   "source": [
    "def tokenize_with_word_tokenizer(text):\n",
    "    tokenizer = word_tokenize(text)\n",
    "    return tokenizer\n",
    "\n",
    "tokenize_with_word_tokenizer(sentence)"
   ]
  },
  {
   "cell_type": "code",
   "execution_count": 6,
   "id": "ab935f2f",
   "metadata": {},
   "outputs": [
    {
     "data": {
      "text/plain": [
       "[\"Don't\",\n",
       " 'miss',\n",
       " 'the',\n",
       " 'great',\n",
       " 'hit',\n",
       " '.',\n",
       " 'Tomorrow',\n",
       " 'is',\n",
       " 'another',\n",
       " 'day',\n",
       " '8',\n",
       " 'is',\n",
       " 'one',\n",
       " 'of',\n",
       " 'my',\n",
       " 'favorite',\n",
       " 'song',\n",
       " '.']"
      ]
     },
     "execution_count": 6,
     "metadata": {},
     "output_type": "execute_result"
    }
   ],
   "source": [
    "#针对推特文本，去除@用户名，保留表情等一些特殊符号，分词分为两种情况：\n",
    "#1、不带参数token=TweetTokenizer().tokenize(sentence) 能够拆分无效用的标点符号\n",
    "#2、带参数token=TweetTokenizer(strip_handles=True, reduce=True) 当一个词中相同字符连续出现3次以上，就只保留3个，设置strip_handles=True会删去@xxx\n",
    "def tokenize_with_tweet_tokenizer(text):\n",
    "    tweet_tokenizer = TweetTokenizer(strip_handles=True);\n",
    "    return tweet_tokenizer.tokenize(text)\n",
    "\n",
    "tokenize_with_tweet_tokenizer(sentence)"
   ]
  },
  {
   "cell_type": "code",
   "execution_count": 7,
   "id": "3153c8f6",
   "metadata": {},
   "outputs": [
    {
     "data": {
      "text/plain": [
       "[\"Don't\",\n",
       " 'miss',\n",
       " 'the',\n",
       " 'great',\n",
       " 'hit.',\n",
       " 'Tomorrow_is_another_day',\n",
       " '@priscillachan728',\n",
       " 'is',\n",
       " 'one',\n",
       " 'of',\n",
       " 'my',\n",
       " 'favorite',\n",
       " 'song.']"
      ]
     },
     "execution_count": 7,
     "metadata": {},
     "output_type": "execute_result"
    }
   ],
   "source": [
    "#对特定短语进行组合划分\n",
    "def tokenize_with_mwe(text):\n",
    "    mwe_tokenizer = MWETokenizer()\n",
    "    mwe_tokenizer.add_mwe((\"Tomorrow\", \"is\", \"another\", \"day\"))\n",
    "    return mwe_tokenizer.tokenize(text.split())\n",
    "\n",
    "tokenize_with_mwe(sentence)"
   ]
  },
  {
   "cell_type": "code",
   "execution_count": 8,
   "id": "c9dbb128",
   "metadata": {},
   "outputs": [
    {
     "data": {
      "text/plain": [
       "['Don',\n",
       " \"'\",\n",
       " 't',\n",
       " 'miss',\n",
       " 'the',\n",
       " 'great',\n",
       " 'hit',\n",
       " '.',\n",
       " 'Tomorrow',\n",
       " 'is',\n",
       " 'another',\n",
       " 'day',\n",
       " '@',\n",
       " 'priscillachan728',\n",
       " 'is',\n",
       " 'one',\n",
       " 'of',\n",
       " 'my',\n",
       " 'favorite',\n",
       " 'song',\n",
       " '.']"
      ]
     },
     "execution_count": 8,
     "metadata": {},
     "output_type": "execute_result"
    }
   ],
   "source": [
    "#使用正则表达式进行分词，如对一些金钱表示或者其他非空白序列\n",
    "def tokenize_with_regex_tokenizer(text):\n",
    "    reg_tokenizer = RegexpTokenizer('\\w+|\\$[\\d\\.]+|\\S')\n",
    "    return reg_tokenizer.tokenize(text)\n",
    "\n",
    "tokenize_with_regex_tokenizer(sentence)"
   ]
  },
  {
   "cell_type": "code",
   "execution_count": 9,
   "id": "1d075f22",
   "metadata": {},
   "outputs": [
    {
     "data": {
      "text/plain": [
       "[\"Don't\",\n",
       " 'miss',\n",
       " 'the',\n",
       " 'great',\n",
       " 'hit.',\n",
       " 'Tomorrow',\n",
       " 'is',\n",
       " 'another',\n",
       " 'day',\n",
       " '@priscillachan728',\n",
       " 'is',\n",
       " 'one',\n",
       " 'of',\n",
       " 'my',\n",
       " 'favorite',\n",
       " 'song.']"
      ]
     },
     "execution_count": 9,
     "metadata": {},
     "output_type": "execute_result"
    }
   ],
   "source": [
    "#空格符号分割\n",
    "def tokenize_with_wst(text):\n",
    "    wh_tokenizer = WhitespaceTokenizer()\n",
    "    return wh_tokenizer.tokenize(text)\n",
    "\n",
    "tokenize_with_wst(sentence)"
   ]
  },
  {
   "cell_type": "code",
   "execution_count": 10,
   "id": "9751c5bc",
   "metadata": {},
   "outputs": [
    {
     "data": {
      "text/plain": [
       "['Don',\n",
       " \"'\",\n",
       " 't',\n",
       " 'miss',\n",
       " 'the',\n",
       " 'great',\n",
       " 'hit',\n",
       " '.',\n",
       " 'Tomorrow',\n",
       " 'is',\n",
       " 'another',\n",
       " 'day',\n",
       " '@',\n",
       " 'priscillachan728',\n",
       " 'is',\n",
       " 'one',\n",
       " 'of',\n",
       " 'my',\n",
       " 'favorite',\n",
       " 'song',\n",
       " '.']"
      ]
     },
     "execution_count": 10,
     "metadata": {},
     "output_type": "execute_result"
    }
   ],
   "source": [
    "#单词标点进行分割\n",
    "def tokenize_with_wordpunct_tokenizer(text):\n",
    "    wp_tokenizer = WordPunctTokenizer()\n",
    "    return wp_tokenizer.tokenize(text)\n",
    "\n",
    "tokenize_with_wordpunct_tokenizer(sentence)"
   ]
  },
  {
   "cell_type": "code",
   "execution_count": null,
   "id": "0b8bc84f",
   "metadata": {},
   "outputs": [],
   "source": []
  }
 ],
 "metadata": {
  "kernelspec": {
   "display_name": "Python 3 (ipykernel)",
   "language": "python",
   "name": "python3"
  },
  "language_info": {
   "codemirror_mode": {
    "name": "ipython",
    "version": 3
   },
   "file_extension": ".py",
   "mimetype": "text/x-python",
   "name": "python",
   "nbconvert_exporter": "python",
   "pygments_lexer": "ipython3",
   "version": "3.7.11"
  }
 },
 "nbformat": 4,
 "nbformat_minor": 5
}
