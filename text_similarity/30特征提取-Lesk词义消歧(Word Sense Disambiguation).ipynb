{
 "cells": [
  {
   "cell_type": "code",
   "execution_count": 1,
   "id": "94688c6a",
   "metadata": {},
   "outputs": [],
   "source": [
    "#使用相似度来实现Lesk算法"
   ]
  },
  {
   "cell_type": "code",
   "execution_count": 3,
   "id": "1d8074b7",
   "metadata": {},
   "outputs": [],
   "source": [
    "from nltk import data\n",
    "data.path.append(\"/Users/leonwong/nltk_data\")\n",
    "\n",
    "import pandas as pd\n",
    "from sklearn.metrics.pairwise import cosine_similarity\n",
    "from nltk import word_tokenize\n",
    "from sklearn.feature_extraction.text import TfidfVectorizer\n",
    "from sklearn.datasets import fetch_20newsgroups #sklearn自带的新闻数据集\n",
    "\n",
    "import numpy as np"
   ]
  },
  {
   "cell_type": "code",
   "execution_count": 4,
   "id": "a18b6d43",
   "metadata": {},
   "outputs": [],
   "source": [
    "#定义函数计算单词的TF-IDF值，并以向量的形式返回\n",
    "def get_tfidf_vectors(corpus):\n",
    "    tfidf_vectorizer = TfidfVectorizer()\n",
    "    tfidf_results = tfidf_vectorizer.fit_transform(corpus).todense()\n",
    "    return tfidf_results"
   ]
  },
  {
   "cell_type": "code",
   "execution_count": 5,
   "id": "1667c26f",
   "metadata": {},
   "outputs": [],
   "source": [
    "#定义小写转换函数\n",
    "def to_lower_case(corpus):\n",
    "    lowercase_corpus = [x.lower() for x in corpus]\n",
    "    return lowercase_corpus"
   ]
  },
  {
   "cell_type": "code",
   "execution_count": 6,
   "id": "ea383a38",
   "metadata": {},
   "outputs": [],
   "source": [
    "#定义Lesk算法函数(忽略了必要的文本数据处理)\n",
    "def find_sentence_defintion(sent_vector, defintion_vectors):\n",
    "    #该方法通过查找可能定义的句子的余弦相似度，将相似度最高的句子随相似度评分一起返回\n",
    "    \n",
    "    result_dict = {}\n",
    "    for definition_id, def_vector in defintion_vectors.items():\n",
    "        sim = cosine_similarity(sent_vector, def_vector)\n",
    "        result_dict[definition_id] = sim[0][0]\n",
    "    definition = sorted(result_dict.items(), key=lambda x: x[1], reverse=True)[0]\n",
    "    return definition[0], definition[1]"
   ]
  },
  {
   "cell_type": "code",
   "execution_count": 8,
   "id": "91374c5a",
   "metadata": {},
   "outputs": [],
   "source": [
    "#两个例句放在第一句和第四句；第二、第三句分别是bank单词在字典中的解释\n",
    "corpus = [\n",
    "    \"On the bank of Namtso lake, there lies the scent of spirituality\",\n",
    "    \"An institute where people can store extra cash or money\",\n",
    "    \"The alnd alongside or sloping down to a river or lake\",\n",
    "    \"I'm going to withdraw som cash from bank\",\n",
    "    \"What you do defines you\",\n",
    "    \"Your deeds define you\",\n",
    "    \"Once upon a time there lived a king\",\n",
    "    \"Who is your queen?\",\n",
    "    \"He is desperate\",\n",
    "    \"Is he not desperate?\"\n",
    "]"
   ]
  },
  {
   "cell_type": "code",
   "execution_count": 9,
   "id": "b7868150",
   "metadata": {},
   "outputs": [],
   "source": [
    "lower_case_corpus = to_lower_case(corpus)"
   ]
  },
  {
   "cell_type": "code",
   "execution_count": 10,
   "id": "336651b7",
   "metadata": {},
   "outputs": [
    {
     "data": {
      "text/plain": [
       "matrix([[0.        , 0.        , 0.        , 0.22672257, 0.        ,\n",
       "         0.        , 0.        , 0.        , 0.        , 0.        ,\n",
       "         0.        , 0.        , 0.        , 0.        , 0.        ,\n",
       "         0.        , 0.        , 0.        , 0.        , 0.22672257,\n",
       "         0.26670377, 0.        , 0.        , 0.26670377, 0.        ,\n",
       "         0.53340755, 0.26670377, 0.        , 0.        , 0.        ,\n",
       "         0.        , 0.        , 0.26670377, 0.        , 0.        ,\n",
       "         0.26670377, 0.        , 0.45344515, 0.22672257, 0.        ,\n",
       "         0.        , 0.        , 0.        , 0.        , 0.        ,\n",
       "         0.        , 0.        , 0.        ],\n",
       "        [0.        , 0.        , 0.32538077, 0.        , 0.32538077,\n",
       "         0.27660338, 0.        , 0.        , 0.        , 0.        ,\n",
       "         0.        , 0.        , 0.32538077, 0.        , 0.        ,\n",
       "         0.        , 0.32538077, 0.        , 0.        , 0.        ,\n",
       "         0.        , 0.        , 0.32538077, 0.        , 0.        ,\n",
       "         0.        , 0.        , 0.        , 0.27660338, 0.32538077,\n",
       "         0.        , 0.        , 0.        , 0.        , 0.        ,\n",
       "         0.        , 0.32538077, 0.        , 0.        , 0.        ,\n",
       "         0.        , 0.        , 0.        , 0.32538077, 0.        ,\n",
       "         0.        , 0.        , 0.        ],\n",
       "        [0.31530547, 0.31530547, 0.        , 0.        , 0.        ,\n",
       "         0.        , 0.        , 0.        , 0.        , 0.        ,\n",
       "         0.        , 0.31530547, 0.        , 0.        , 0.        ,\n",
       "         0.        , 0.        , 0.        , 0.        , 0.26803846,\n",
       "         0.        , 0.        , 0.        , 0.        , 0.        ,\n",
       "         0.        , 0.        , 0.        , 0.53607691, 0.        ,\n",
       "         0.        , 0.31530547, 0.        , 0.31530547, 0.        ,\n",
       "         0.        , 0.        , 0.26803846, 0.        , 0.        ,\n",
       "         0.26803846, 0.        , 0.        , 0.        , 0.        ,\n",
       "         0.        , 0.        , 0.        ],\n",
       "        [0.        , 0.        , 0.        , 0.34229032, 0.        ,\n",
       "         0.34229032, 0.        , 0.        , 0.        , 0.        ,\n",
       "         0.        , 0.        , 0.        , 0.40265122, 0.40265122,\n",
       "         0.        , 0.        , 0.        , 0.        , 0.        ,\n",
       "         0.        , 0.        , 0.        , 0.        , 0.        ,\n",
       "         0.        , 0.        , 0.        , 0.        , 0.        ,\n",
       "         0.        , 0.        , 0.        , 0.        , 0.40265122,\n",
       "         0.        , 0.        , 0.        , 0.        , 0.        ,\n",
       "         0.34229032, 0.        , 0.        , 0.        , 0.        ,\n",
       "         0.40265122, 0.        , 0.        ],\n",
       "        [0.        , 0.        , 0.        , 0.        , 0.        ,\n",
       "         0.        , 0.        , 0.        , 0.41202109, 0.        ,\n",
       "         0.41202109, 0.        , 0.        , 0.        , 0.        ,\n",
       "         0.        , 0.        , 0.        , 0.        , 0.        ,\n",
       "         0.        , 0.        , 0.        , 0.        , 0.        ,\n",
       "         0.        , 0.        , 0.        , 0.        , 0.        ,\n",
       "         0.        , 0.        , 0.        , 0.        , 0.        ,\n",
       "         0.        , 0.        , 0.        , 0.        , 0.        ,\n",
       "         0.        , 0.        , 0.41202109, 0.        , 0.        ,\n",
       "         0.        , 0.70051114, 0.        ],\n",
       "        [0.        , 0.        , 0.        , 0.        , 0.        ,\n",
       "         0.        , 0.53874817, 0.53874817, 0.        , 0.        ,\n",
       "         0.        , 0.        , 0.        , 0.        , 0.        ,\n",
       "         0.        , 0.        , 0.        , 0.        , 0.        ,\n",
       "         0.        , 0.        , 0.        , 0.        , 0.        ,\n",
       "         0.        , 0.        , 0.        , 0.        , 0.        ,\n",
       "         0.        , 0.        , 0.        , 0.        , 0.        ,\n",
       "         0.        , 0.        , 0.        , 0.        , 0.        ,\n",
       "         0.        , 0.        , 0.        , 0.        , 0.        ,\n",
       "         0.        , 0.45798516, 0.45798516],\n",
       "        [0.        , 0.        , 0.        , 0.        , 0.        ,\n",
       "         0.        , 0.        , 0.        , 0.        , 0.        ,\n",
       "         0.        , 0.        , 0.        , 0.        , 0.        ,\n",
       "         0.        , 0.        , 0.        , 0.41802399, 0.        ,\n",
       "         0.        , 0.41802399, 0.        , 0.        , 0.        ,\n",
       "         0.        , 0.        , 0.41802399, 0.        , 0.        ,\n",
       "         0.        , 0.        , 0.        , 0.        , 0.        ,\n",
       "         0.        , 0.        , 0.        , 0.35535858, 0.41802399,\n",
       "         0.        , 0.41802399, 0.        , 0.        , 0.        ,\n",
       "         0.        , 0.        , 0.        ],\n",
       "        [0.        , 0.        , 0.        , 0.        , 0.        ,\n",
       "         0.        , 0.        , 0.        , 0.        , 0.        ,\n",
       "         0.        , 0.        , 0.        , 0.        , 0.        ,\n",
       "         0.        , 0.        , 0.41091978, 0.        , 0.        ,\n",
       "         0.        , 0.        , 0.        , 0.        , 0.        ,\n",
       "         0.        , 0.        , 0.        , 0.        , 0.        ,\n",
       "         0.55251242, 0.        , 0.        , 0.        , 0.        ,\n",
       "         0.        , 0.        , 0.        , 0.        , 0.        ,\n",
       "         0.        , 0.        , 0.        , 0.        , 0.55251242,\n",
       "         0.        , 0.        , 0.46968604],\n",
       "        [0.        , 0.        , 0.        , 0.        , 0.        ,\n",
       "         0.        , 0.        , 0.        , 0.        , 0.6013393 ,\n",
       "         0.        , 0.        , 0.        , 0.        , 0.        ,\n",
       "         0.6013393 , 0.        , 0.52610083, 0.        , 0.        ,\n",
       "         0.        , 0.        , 0.        , 0.        , 0.        ,\n",
       "         0.        , 0.        , 0.        , 0.        , 0.        ,\n",
       "         0.        , 0.        , 0.        , 0.        , 0.        ,\n",
       "         0.        , 0.        , 0.        , 0.        , 0.        ,\n",
       "         0.        , 0.        , 0.        , 0.        , 0.        ,\n",
       "         0.        , 0.        , 0.        ],\n",
       "        [0.        , 0.        , 0.        , 0.        , 0.        ,\n",
       "         0.        , 0.        , 0.        , 0.        , 0.49092779,\n",
       "         0.        , 0.        , 0.        , 0.        , 0.        ,\n",
       "         0.49092779, 0.        , 0.42950381, 0.        , 0.        ,\n",
       "         0.        , 0.        , 0.        , 0.        , 0.57750004,\n",
       "         0.        , 0.        , 0.        , 0.        , 0.        ,\n",
       "         0.        , 0.        , 0.        , 0.        , 0.        ,\n",
       "         0.        , 0.        , 0.        , 0.        , 0.        ,\n",
       "         0.        , 0.        , 0.        , 0.        , 0.        ,\n",
       "         0.        , 0.        , 0.        ]])"
      ]
     },
     "execution_count": 10,
     "metadata": {},
     "output_type": "execute_result"
    }
   ],
   "source": [
    "corpus_tfidf = get_tfidf_vectors(lower_case_corpus)\n",
    "corpus_tfidf"
   ]
  },
  {
   "cell_type": "code",
   "execution_count": 12,
   "id": "ba815b07",
   "metadata": {},
   "outputs": [
    {
     "name": "stdout",
     "output_type": "stream",
     "text": [
      "最接近词汇bank的解释是定义二，具有相似度：0.182311105856447\n"
     ]
    }
   ],
   "source": [
    "sent_vector = corpus_tfidf[0] #消歧语句\n",
    "definition_vectors = {'定义一':corpus_tfidf[1], '定义二':corpus_tfidf[2]}#可能的定义选项\n",
    "definition_id, score = find_sentence_defintion(sent_vector, definition_vectors)\n",
    "print(\"最接近词汇{}的解释是{}，具有相似度：{}\".format(\"bank\", definition_id, score))"
   ]
  },
  {
   "cell_type": "code",
   "execution_count": 13,
   "id": "fca05516",
   "metadata": {},
   "outputs": [
    {
     "name": "stdout",
     "output_type": "stream",
     "text": [
      "最接近词汇bank的解释是定义一，具有相似度：0.094678658841801\n"
     ]
    }
   ],
   "source": [
    "sent_vector = corpus_tfidf[3] #消歧语句\n",
    "definition_vectors = {'定义一':corpus_tfidf[1], '定义二':corpus_tfidf[2]}#可能的定义选项\n",
    "definition_id, score = find_sentence_defintion(sent_vector, definition_vectors)\n",
    "print(\"最接近词汇{}的解释是{}，具有相似度：{}\".format(\"bank\", definition_id, score))"
   ]
  },
  {
   "cell_type": "code",
   "execution_count": null,
   "id": "ddd8c30e",
   "metadata": {},
   "outputs": [],
   "source": []
  }
 ],
 "metadata": {
  "kernelspec": {
   "display_name": "Python 3 (ipykernel)",
   "language": "python",
   "name": "python3"
  },
  "language_info": {
   "codemirror_mode": {
    "name": "ipython",
    "version": 3
   },
   "file_extension": ".py",
   "mimetype": "text/x-python",
   "name": "python",
   "nbconvert_exporter": "python",
   "pygments_lexer": "ipython3",
   "version": "3.7.11"
  }
 },
 "nbformat": 4,
 "nbformat_minor": 5
}
