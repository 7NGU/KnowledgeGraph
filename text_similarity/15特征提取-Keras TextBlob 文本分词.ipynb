{
 "cells": [
  {
   "cell_type": "code",
   "execution_count": 1,
   "id": "78d6234b",
   "metadata": {},
   "outputs": [
    {
     "name": "stderr",
     "output_type": "stream",
     "text": [
      "/Users/leonwong/anaconda3/envs/wds/lib/python3.7/site-packages/tensorflow/python/framework/dtypes.py:516: FutureWarning: Passing (type, 1) or '1type' as a synonym of type is deprecated; in a future version of numpy, it will be understood as (type, (1,)) / '(1,)type'.\n",
      "  _np_qint8 = np.dtype([(\"qint8\", np.int8, 1)])\n",
      "/Users/leonwong/anaconda3/envs/wds/lib/python3.7/site-packages/tensorflow/python/framework/dtypes.py:517: FutureWarning: Passing (type, 1) or '1type' as a synonym of type is deprecated; in a future version of numpy, it will be understood as (type, (1,)) / '(1,)type'.\n",
      "  _np_quint8 = np.dtype([(\"quint8\", np.uint8, 1)])\n",
      "/Users/leonwong/anaconda3/envs/wds/lib/python3.7/site-packages/tensorflow/python/framework/dtypes.py:518: FutureWarning: Passing (type, 1) or '1type' as a synonym of type is deprecated; in a future version of numpy, it will be understood as (type, (1,)) / '(1,)type'.\n",
      "  _np_qint16 = np.dtype([(\"qint16\", np.int16, 1)])\n",
      "/Users/leonwong/anaconda3/envs/wds/lib/python3.7/site-packages/tensorflow/python/framework/dtypes.py:519: FutureWarning: Passing (type, 1) or '1type' as a synonym of type is deprecated; in a future version of numpy, it will be understood as (type, (1,)) / '(1,)type'.\n",
      "  _np_quint16 = np.dtype([(\"quint16\", np.uint16, 1)])\n",
      "/Users/leonwong/anaconda3/envs/wds/lib/python3.7/site-packages/tensorflow/python/framework/dtypes.py:520: FutureWarning: Passing (type, 1) or '1type' as a synonym of type is deprecated; in a future version of numpy, it will be understood as (type, (1,)) / '(1,)type'.\n",
      "  _np_qint32 = np.dtype([(\"qint32\", np.int32, 1)])\n",
      "/Users/leonwong/anaconda3/envs/wds/lib/python3.7/site-packages/tensorflow/python/framework/dtypes.py:525: FutureWarning: Passing (type, 1) or '1type' as a synonym of type is deprecated; in a future version of numpy, it will be understood as (type, (1,)) / '(1,)type'.\n",
      "  np_resource = np.dtype([(\"resource\", np.ubyte, 1)])\n",
      "/Users/leonwong/anaconda3/envs/wds/lib/python3.7/site-packages/tensorboard/compat/tensorflow_stub/dtypes.py:541: FutureWarning: Passing (type, 1) or '1type' as a synonym of type is deprecated; in a future version of numpy, it will be understood as (type, (1,)) / '(1,)type'.\n",
      "  _np_qint8 = np.dtype([(\"qint8\", np.int8, 1)])\n",
      "/Users/leonwong/anaconda3/envs/wds/lib/python3.7/site-packages/tensorboard/compat/tensorflow_stub/dtypes.py:542: FutureWarning: Passing (type, 1) or '1type' as a synonym of type is deprecated; in a future version of numpy, it will be understood as (type, (1,)) / '(1,)type'.\n",
      "  _np_quint8 = np.dtype([(\"quint8\", np.uint8, 1)])\n",
      "/Users/leonwong/anaconda3/envs/wds/lib/python3.7/site-packages/tensorboard/compat/tensorflow_stub/dtypes.py:543: FutureWarning: Passing (type, 1) or '1type' as a synonym of type is deprecated; in a future version of numpy, it will be understood as (type, (1,)) / '(1,)type'.\n",
      "  _np_qint16 = np.dtype([(\"qint16\", np.int16, 1)])\n",
      "/Users/leonwong/anaconda3/envs/wds/lib/python3.7/site-packages/tensorboard/compat/tensorflow_stub/dtypes.py:544: FutureWarning: Passing (type, 1) or '1type' as a synonym of type is deprecated; in a future version of numpy, it will be understood as (type, (1,)) / '(1,)type'.\n",
      "  _np_quint16 = np.dtype([(\"quint16\", np.uint16, 1)])\n",
      "/Users/leonwong/anaconda3/envs/wds/lib/python3.7/site-packages/tensorboard/compat/tensorflow_stub/dtypes.py:545: FutureWarning: Passing (type, 1) or '1type' as a synonym of type is deprecated; in a future version of numpy, it will be understood as (type, (1,)) / '(1,)type'.\n",
      "  _np_qint32 = np.dtype([(\"qint32\", np.int32, 1)])\n",
      "/Users/leonwong/anaconda3/envs/wds/lib/python3.7/site-packages/tensorboard/compat/tensorflow_stub/dtypes.py:550: FutureWarning: Passing (type, 1) or '1type' as a synonym of type is deprecated; in a future version of numpy, it will be understood as (type, (1,)) / '(1,)type'.\n",
      "  np_resource = np.dtype([(\"resource\", np.ubyte, 1)])\n"
     ]
    }
   ],
   "source": [
    "#使用text_to_word_sequence拆分单词\n",
    "from tensorflow.keras.preprocessing.text import text_to_word_sequence"
   ]
  },
  {
   "cell_type": "code",
   "execution_count": 2,
   "id": "219d9367",
   "metadata": {},
   "outputs": [],
   "source": [
    "sentence_en = \"Tomorrow is another day@priscillachan728 is one of my most favorite song.\""
   ]
  },
  {
   "cell_type": "code",
   "execution_count": 3,
   "id": "896b96c0",
   "metadata": {},
   "outputs": [],
   "source": [
    "sentence_zh = '【你知道#大熊猫有几根手指#吗？ ：-】还有，#大熊猫的手指是什么颜色#？快戳视频👇找答案@Pandaful熊猫社区 #大熊猫小知识#'"
   ]
  },
  {
   "cell_type": "code",
   "execution_count": 4,
   "id": "c9852fe9",
   "metadata": {},
   "outputs": [],
   "source": [
    "def get_keras_tokens(text):\n",
    "    return text_to_word_sequence(text)"
   ]
  },
  {
   "cell_type": "code",
   "execution_count": 5,
   "id": "c207c3fa",
   "metadata": {},
   "outputs": [
    {
     "data": {
      "text/plain": [
       "['tomorrow',\n",
       " 'is',\n",
       " 'another',\n",
       " 'day',\n",
       " 'priscillachan728',\n",
       " 'is',\n",
       " 'one',\n",
       " 'of',\n",
       " 'my',\n",
       " 'most',\n",
       " 'favorite',\n",
       " 'song']"
      ]
     },
     "execution_count": 5,
     "metadata": {},
     "output_type": "execute_result"
    }
   ],
   "source": [
    "get_keras_tokens(sentence_en)"
   ]
  },
  {
   "cell_type": "code",
   "execution_count": 6,
   "id": "ad34ea46",
   "metadata": {},
   "outputs": [
    {
     "data": {
      "text/plain": [
       "['【你知道',\n",
       " '大熊猫有几根手指',\n",
       " '吗？',\n",
       " '：',\n",
       " '】还有，',\n",
       " '大熊猫的手指是什么颜色',\n",
       " '？快戳视频👇找答案',\n",
       " 'pandaful熊猫社区',\n",
       " '大熊猫小知识']"
      ]
     },
     "execution_count": 6,
     "metadata": {},
     "output_type": "execute_result"
    }
   ],
   "source": [
    "get_keras_tokens(sentence_zh)"
   ]
  },
  {
   "cell_type": "code",
   "execution_count": 8,
   "id": "366b2f5a",
   "metadata": {},
   "outputs": [
    {
     "data": {
      "text/plain": [
       "['你知道',\n",
       " '大熊猫有几根手指',\n",
       " '吗',\n",
       " '还有',\n",
       " '大熊猫的手指是什么颜色',\n",
       " '快戳视频',\n",
       " '找答案',\n",
       " 'pandaful熊猫社区',\n",
       " '大熊猫小知识']"
      ]
     },
     "execution_count": 8,
     "metadata": {},
     "output_type": "execute_result"
    }
   ],
   "source": [
    "import re\n",
    "sentence_zh = re.sub(r'([^\\s\\w]|_)+', ' ', sentence_zh)\n",
    "\n",
    "get_keras_tokens(sentence_zh)"
   ]
  },
  {
   "cell_type": "code",
   "execution_count": 9,
   "id": "da2798e1",
   "metadata": {},
   "outputs": [
    {
     "name": "stdout",
     "output_type": "stream",
     "text": [
      "12\n"
     ]
    }
   ],
   "source": [
    "#统计拆分后的单词数量\n",
    "vocab_en_size = len(get_keras_tokens(sentence_en))\n",
    "print(vocab_en_size)"
   ]
  },
  {
   "cell_type": "code",
   "execution_count": 10,
   "id": "b8c3a176",
   "metadata": {},
   "outputs": [
    {
     "name": "stdout",
     "output_type": "stream",
     "text": [
      "9\n"
     ]
    }
   ],
   "source": [
    "vocab_zh_size = len(get_keras_tokens(sentence_zh))\n",
    "print(vocab_zh_size)"
   ]
  },
  {
   "cell_type": "code",
   "execution_count": 12,
   "id": "39f1d603",
   "metadata": {},
   "outputs": [],
   "source": [
    "#文本向量化\n",
    "from tensorflow.keras.preprocessing.text import Tokenizer\n",
    "\n",
    "#创建分词器Tokenizer对象\n",
    "tokenizer = Tokenizer()\n",
    "\n",
    "#提供训练语料库，手动分词，使用空格作为分词符\n",
    "text = [\"你知道 大熊猫 有 几根 手指\",\n",
    "        \"大熊猫 手指 什么颜色\",\n",
    "         \"快戳视频 找答案\",\n",
    "         \"pandaful 熊猫社区\",\n",
    "         \"大熊猫 小知识\"]\n",
    "\n",
    "#fit_on_texts方法\n",
    "tokenizer.fit_on_texts(text)\n",
    "#完成嵌入后，Tokenizer提供了四个属性，可以使用它们来查询文本"
   ]
  },
  {
   "cell_type": "code",
   "execution_count": 13,
   "id": "391dec77",
   "metadata": {},
   "outputs": [
    {
     "data": {
      "text/plain": [
       "OrderedDict([('你知道', 1),\n",
       "             ('大熊猫', 3),\n",
       "             ('有', 1),\n",
       "             ('几根', 1),\n",
       "             ('手指', 2),\n",
       "             ('什么颜色', 1),\n",
       "             ('快戳视频', 1),\n",
       "             ('找答案', 1),\n",
       "             ('pandaful', 1),\n",
       "             ('熊猫社区', 1),\n",
       "             ('小知识', 1)])"
      ]
     },
     "execution_count": 13,
     "metadata": {},
     "output_type": "execute_result"
    }
   ],
   "source": [
    "#word_counts\n",
    "tokenizer.word_counts"
   ]
  },
  {
   "cell_type": "code",
   "execution_count": 14,
   "id": "0fb95a0e",
   "metadata": {},
   "outputs": [
    {
     "data": {
      "text/plain": [
       "defaultdict(int,\n",
       "            {'有': 1,\n",
       "             '几根': 1,\n",
       "             '你知道': 1,\n",
       "             '手指': 2,\n",
       "             '大熊猫': 3,\n",
       "             '什么颜色': 1,\n",
       "             '快戳视频': 1,\n",
       "             '找答案': 1,\n",
       "             'pandaful': 1,\n",
       "             '熊猫社区': 1,\n",
       "             '小知识': 1})"
      ]
     },
     "execution_count": 14,
     "metadata": {},
     "output_type": "execute_result"
    }
   ],
   "source": [
    "#word_docs\n",
    "tokenizer.word_docs"
   ]
  },
  {
   "cell_type": "code",
   "execution_count": 15,
   "id": "8681593a",
   "metadata": {},
   "outputs": [
    {
     "data": {
      "text/plain": [
       "{'大熊猫': 1,\n",
       " '手指': 2,\n",
       " '你知道': 3,\n",
       " '有': 4,\n",
       " '几根': 5,\n",
       " '什么颜色': 6,\n",
       " '快戳视频': 7,\n",
       " '找答案': 8,\n",
       " 'pandaful': 9,\n",
       " '熊猫社区': 10,\n",
       " '小知识': 11}"
      ]
     },
     "execution_count": 15,
     "metadata": {},
     "output_type": "execute_result"
    }
   ],
   "source": [
    "#word_index\n",
    "tokenizer.word_index"
   ]
  },
  {
   "cell_type": "code",
   "execution_count": 16,
   "id": "40ed2784",
   "metadata": {},
   "outputs": [
    {
     "data": {
      "text/plain": [
       "5"
      ]
     },
     "execution_count": 16,
     "metadata": {},
     "output_type": "execute_result"
    }
   ],
   "source": [
    "#document_count\n",
    "tokenizer.document_count"
   ]
  },
  {
   "cell_type": "code",
   "execution_count": 17,
   "id": "79ef5e72",
   "metadata": {},
   "outputs": [
    {
     "data": {
      "text/plain": [
       "[[9, 10, 11, 1, 4, 5, 2]]"
      ]
     },
     "execution_count": 17,
     "metadata": {},
     "output_type": "execute_result"
    }
   ],
   "source": [
    "#Tokenizer复用实现自动编码\n",
    "new_text = [\"pandaful 熊猫社区 小知识 大熊猫 有 几根 手指\"]\n",
    "tokenizer.texts_to_sequences(new_text)"
   ]
  },
  {
   "cell_type": "code",
   "execution_count": 19,
   "id": "f0ee06f3",
   "metadata": {},
   "outputs": [
    {
     "data": {
      "text/plain": [
       "array([[ 0,  0,  0,  9, 10, 11,  1,  4,  5,  2]], dtype=int32)"
      ]
     },
     "execution_count": 19,
     "metadata": {},
     "output_type": "execute_result"
    }
   ],
   "source": [
    "#为输入深度学习模型作准备\n",
    "#keras只能接受长度相同的序列输入，如果目前序列长度参差不齐，需要使用\n",
    "#pad_sequences()\n",
    "from tensorflow.keras.preprocessing.sequence import pad_sequences\n",
    "\n",
    "#进行了补全\n",
    "pad_sequences(tokenizer.texts_to_sequences(new_text), maxlen=10)"
   ]
  },
  {
   "cell_type": "code",
   "execution_count": 20,
   "id": "34643b7d",
   "metadata": {},
   "outputs": [],
   "source": [
    "#使用TextBlob进行分词\n",
    "from textblob import TextBlob\n",
    "\n",
    "from nltk import data\n",
    "data.path.append(\"/Users/leonwong/nltk_data\")"
   ]
  },
  {
   "cell_type": "code",
   "execution_count": 24,
   "id": "a4cc446a",
   "metadata": {},
   "outputs": [],
   "source": [
    "def get_textblob_tokens(text):\n",
    "    blob = TextBlob(text)\n",
    "    return blob.words"
   ]
  },
  {
   "cell_type": "code",
   "execution_count": 25,
   "id": "dfa5be54",
   "metadata": {},
   "outputs": [
    {
     "data": {
      "text/plain": [
       "WordList(['Tomorrow', 'is', 'another', 'day', 'priscillachan728', 'is', 'one', 'of', 'my', 'most', 'favorite', 'song'])"
      ]
     },
     "execution_count": 25,
     "metadata": {},
     "output_type": "execute_result"
    }
   ],
   "source": [
    "get_textblob_tokens(sentence_en)"
   ]
  },
  {
   "cell_type": "code",
   "execution_count": 26,
   "id": "c47349dd",
   "metadata": {},
   "outputs": [
    {
     "data": {
      "text/plain": [
       "WordList(['你知道', '大熊猫有几根手指', '吗', '还有', '大熊猫的手指是什么颜色', '快戳视频', '找答案', 'Pandaful熊猫社区', '大熊猫小知识'])"
      ]
     },
     "execution_count": 26,
     "metadata": {},
     "output_type": "execute_result"
    }
   ],
   "source": [
    "get_textblob_tokens(sentence_zh)"
   ]
  },
  {
   "cell_type": "code",
   "execution_count": null,
   "id": "05c0674c",
   "metadata": {},
   "outputs": [],
   "source": []
  }
 ],
 "metadata": {
  "kernelspec": {
   "display_name": "Python 3 (ipykernel)",
   "language": "python",
   "name": "python3"
  },
  "language_info": {
   "codemirror_mode": {
    "name": "ipython",
    "version": 3
   },
   "file_extension": ".py",
   "mimetype": "text/x-python",
   "name": "python",
   "nbconvert_exporter": "python",
   "pygments_lexer": "ipython3",
   "version": "3.7.11"
  }
 },
 "nbformat": 4,
 "nbformat_minor": 5
}
