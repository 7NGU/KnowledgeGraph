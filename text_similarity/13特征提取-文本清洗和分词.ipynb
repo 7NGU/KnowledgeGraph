{
 "cells": [
  {
   "cell_type": "code",
   "execution_count": 1,
   "id": "60ad6fc2",
   "metadata": {},
   "outputs": [],
   "source": [
    "#将文本转换为机器可以处理的数字形式\n",
    "#结构化数据：表格、CSV；半结构化：HTML、XML、JSON；非结构化：文本语料库、图像\n",
    "#文本清洗，去除非结构化数据中的噪声\n",
    "#除了NLTK，还有RE, textblob, keras"
   ]
  },
  {
   "cell_type": "code",
   "execution_count": 2,
   "id": "8c59e575",
   "metadata": {},
   "outputs": [],
   "source": [
    "import re"
   ]
  },
  {
   "cell_type": "code",
   "execution_count": 30,
   "id": "beec6dcc",
   "metadata": {},
   "outputs": [],
   "source": [
    "def clean_text(sentence): #使用正则表达式匹配所有非字母数字字符的文本，并将他们全部替换为空字符串\n",
    "    return re.sub(r'([^\\s\\w]|_)+', ' ', sentence).split()\n",
    "#具体正则表达式可以在网站上查询"
   ]
  },
  {
   "cell_type": "code",
   "execution_count": 31,
   "id": "faa6b2cf",
   "metadata": {},
   "outputs": [],
   "source": [
    "sentence = '【你知道#大熊猫有几根手指#吗？ ：-】还有，#大熊猫的手指是什么颜色#？快戳视频👇找答案@Pandaful熊猫社区 #大熊猫小知识#'"
   ]
  },
  {
   "cell_type": "code",
   "execution_count": 32,
   "id": "67ff3d81",
   "metadata": {},
   "outputs": [
    {
     "data": {
      "text/plain": [
       "['你知道',\n",
       " '大熊猫有几根手指',\n",
       " '吗',\n",
       " '还有',\n",
       " '大熊猫的手指是什么颜色',\n",
       " '快戳视频',\n",
       " '找答案',\n",
       " 'Pandaful熊猫社区',\n",
       " '大熊猫小知识']"
      ]
     },
     "execution_count": 32,
     "metadata": {},
     "output_type": "execute_result"
    }
   ],
   "source": [
    "clean_text(sentence)"
   ]
  },
  {
   "cell_type": "code",
   "execution_count": null,
   "id": "9d8c3839",
   "metadata": {},
   "outputs": [],
   "source": []
  }
 ],
 "metadata": {
  "kernelspec": {
   "display_name": "Python 3 (ipykernel)",
   "language": "python",
   "name": "python3"
  },
  "language_info": {
   "codemirror_mode": {
    "name": "ipython",
    "version": 3
   },
   "file_extension": ".py",
   "mimetype": "text/x-python",
   "name": "python",
   "nbconvert_exporter": "python",
   "pygments_lexer": "ipython3",
   "version": "3.7.11"
  }
 },
 "nbformat": 4,
 "nbformat_minor": 5
}
