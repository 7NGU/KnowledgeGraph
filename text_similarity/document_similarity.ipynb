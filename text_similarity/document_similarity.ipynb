{
 "cells": [
  {
   "cell_type": "code",
   "execution_count": 1,
   "source": [
    "def testSimilarity(str1, str2):  \n",
    "    minDis=minDistance(str1, str2);  \n",
    "    print('The minium distance is:', minDis)  \n",
    "    similarity = 1 - minDis/ max(len(str1),len(str2))  \n",
    "    print('The distance is: %.2f' % similarity)  \n",
    "\n",
    "\n",
    "    if __name__ == '__main__':  \n",
    "    str1 = input('Please input string1: ')  \n",
    "    str2 = input('Please input string2: ')  \n",
    "    testSimilarity(str1, str2)  \n"
   ],
   "outputs": [],
   "metadata": {}
  },
  {
   "cell_type": "code",
   "execution_count": 53,
   "source": [
    "#create corpus\n",
    "text1 = open(\"/Users/leonwong/Desktop/WDS/code/text_similarity/corpus/Covid_vaccination.txt\", 'r').read()\n",
    "text2 = open(\"/Users/leonwong/Desktop/WDS/code/text_similarity/corpus/Covid.txt\", 'r').read()\n",
    "text3 = open(\"/Users/leonwong/Desktop/WDS/code/text_similarity/corpus/Tim_BL.txt\", 'r').read()\n",
    "text4 = open(\"/Users/leonwong/Desktop/WDS/code/text_similarity/corpus/KI.txt\", 'r').read()\n",
    "text5 = open(\"/Users/leonwong/Desktop/WDS/code/text_similarity/corpus/KI_Covid.txt\", 'r').read()\n",
    "\n",
    "# text1"
   ],
   "outputs": [],
   "metadata": {}
  },
  {
   "cell_type": "code",
   "execution_count": 3,
   "source": [
    "def get_words(text):\n",
    "    tokenizer = RegexpTokenizer(r'\\w+')\n",
    "    return tokenizer.tokenize(text)\n",
    "\n",
    "# words = get_words(text1)\n",
    "# print(words[0:50])"
   ],
   "outputs": [],
   "metadata": {}
  },
  {
   "cell_type": "code",
   "execution_count": 4,
   "source": [
    "def remove_stopwords(text):\n",
    "    stop_words = stopwords.words('english')\n",
    "    cleanned_words = []\n",
    "    for wd in text:\n",
    "        if wd.lower() not in stop_words:\n",
    "            cleanned_words.append(wd.lower())\n",
    "            \n",
    "    return cleanned_words\n",
    "\n",
    "# wordss = remove_stopwords(words)\n",
    "# print(wordss[0:50])"
   ],
   "outputs": [],
   "metadata": {}
  },
  {
   "cell_type": "code",
   "execution_count": 5,
   "source": [
    "# def get_stems(text):\n",
    "#     stemmer = stem.PorterStemmer()\n",
    "    \n",
    "#     stem_words = []\n",
    "#     for wd in text:\n",
    "#         stem_words.append(stemmer.stem(wd))\n",
    "#     return stem_words\n",
    "\n",
    "# wordsss = get_stems(wordssss)\n",
    "# print(wordsss[0:50])"
   ],
   "outputs": [],
   "metadata": {}
  },
  {
   "cell_type": "code",
   "execution_count": 6,
   "source": [
    "def get_lemmas(text):\n",
    "    lemmatizer = WordNetLemmatizer()\n",
    "    return [lemmatizer.lemmatize(word) for word in text]\n",
    "\n",
    "# wordssss = get_lemmas(wordss)\n",
    "# print(wordssss[0:50])"
   ],
   "outputs": [],
   "metadata": {}
  },
  {
   "cell_type": "code",
   "execution_count": 7,
   "source": [
    "#Jaccard Similarity\n",
    "def get_jaccard_similarity(text1, text2):\n",
    "    words_text1 = get_lemmas(remove_stopwords(get_words(text1)))\n",
    "    words_text2 = get_lemmas(remove_stopwords(get_words(text2)))\n",
    "    \n",
    "    nr = len(set(words_text1).intersection(set(words_text2)))\n",
    "    dr = len(set(words_text2).union(set(words_text2)))\n",
    "    \n",
    "    jaccard_sim = nr / dr\n",
    "    return jaccard_sim"
   ],
   "outputs": [],
   "metadata": {}
  },
  {
   "cell_type": "code",
   "execution_count": 8,
   "source": [
    "#preprocess \n",
    "def preprocess(text):\n",
    "    text_without_stopwords = \"\"\n",
    "    for wd in get_lemmas(remove_stopwords(get_words(text))):\n",
    "        text_without_stopwords += ' ' + wd\n",
    "    return text_without_stopwords\n",
    "\n",
    "# x = preprocess(text1)\n",
    "# x"
   ],
   "outputs": [],
   "metadata": {}
  },
  {
   "cell_type": "code",
   "execution_count": 9,
   "source": [
    "#TF-IDF and Cosine\n",
    "\n",
    "#extract the document feature vector\n",
    "def get_tf_idf_vectors(corpus):\n",
    "    tfidf_vectorizer = TfidfVectorizer(smooth_idf=True)\n",
    "    tfidf_results = tfidf_vectorizer.fit_transform(corpus).todense()\n",
    "    return tfidf_results\n"
   ],
   "outputs": [],
   "metadata": {}
  },
  {
   "cell_type": "code",
   "execution_count": 82,
   "source": [
    "#combine all corpus\n",
    "corpus = [preprocess(text1), preprocess(text2), preprocess(text3), preprocess(text4), preprocess(text5)]\n",
    "tf_idf_vectors = get_tf_idf_vectors(corpus)\n",
    "# tf_idf_vectors"
   ],
   "outputs": [],
   "metadata": {}
  },
  {
   "cell_type": "code",
   "execution_count": 73,
   "source": [
    "# #use bag of word enhance the TF-IDF vaild\n",
    "# from sklearn.feature_extraction.text import CountVectorizer\n",
    "\n",
    "# #define a vectorizer tool\n",
    "# vectorizer = CountVectorizer(min_df=1, max_df=1.0, token_pattern='\\\\b\\\\w+\\\\b')#support single char\n",
    "\n",
    "# vectorizer.fit(corpus)\n",
    "\n",
    "# bag_of_words = vectorizer.get_feature_names()\n",
    "# # print(\"词袋:\", bag_of_words)\n",
    "\n",
    "# #transform to vector\n",
    "# X = vectorizer.transform(corpus)\n",
    "\n",
    "# #tf-idf\n",
    "# from sklearn.feature_extraction.text import TfidfTransformer\n",
    "# tfidf_transformer = TfidfTransformer()\n",
    "\n",
    "# #根据语料集的词袋向量计算（fit）TF-IDF\n",
    "# tfidf_transformer.fit(X.toarray())\n",
    "\n",
    "    \n",
    "# #将语料集的词袋向量表示转换为TF-IDF向量表示\n",
    "# tfidf_bag = tfidf_transformer.transform(X)\n",
    "# # print(\"\\n\")\n",
    "# # print(\"语料库TF-IDF矩阵:\")\n",
    "# # print(tfidf.toarray())"
   ],
   "outputs": [],
   "metadata": {}
  },
  {
   "cell_type": "code",
   "execution_count": 74,
   "source": [
    "#get the cosine similarity\n",
    "def get_cosine_similarity(vector1, vector2):\n",
    "    return cosine_similarity(vector1, vector2)"
   ],
   "outputs": [],
   "metadata": {}
  },
  {
   "cell_type": "code",
   "execution_count": 75,
   "source": [
    "jac_sim1 = get_jaccard_similarity(text1, text2)\n",
    "jac_sim2 = get_jaccard_similarity(text1, text3)\n",
    "jac_sim3 = get_jaccard_similarity(text1, text4)\n",
    "jac_sim4 = get_jaccard_similarity(text1, text5)\n",
    "jac_sim5 = get_jaccard_similarity(text2, text3)\n",
    "jac_sim6 = get_jaccard_similarity(text2, text4)\n",
    "jac_sim7 = get_jaccard_similarity(text2, text5)\n",
    "jac_sim8 = get_jaccard_similarity(text3, text4)\n",
    "jac_sim9 = get_jaccard_similarity(text3, text5)\n",
    "jac_sim10 = get_jaccard_similarity(text4, text5)"
   ],
   "outputs": [],
   "metadata": {}
  },
  {
   "cell_type": "code",
   "execution_count": 76,
   "source": [
    "tfidf1 = get_cosine_similarity(tf_idf_vectors[0], tf_idf_vectors[1])\n",
    "tfidf2 = get_cosine_similarity(tf_idf_vectors[0], tf_idf_vectors[2])\n",
    "tfidf3 = get_cosine_similarity(tf_idf_vectors[0], tf_idf_vectors[3])\n",
    "tfidf4 = get_cosine_similarity(tf_idf_vectors[0], tf_idf_vectors[4])\n",
    "tfidf5 = get_cosine_similarity(tf_idf_vectors[1], tf_idf_vectors[2])\n",
    "tfidf6 = get_cosine_similarity(tf_idf_vectors[1], tf_idf_vectors[3])\n",
    "tfidf7 = get_cosine_similarity(tf_idf_vectors[1], tf_idf_vectors[4])\n",
    "tfidf8 = get_cosine_similarity(tf_idf_vectors[2], tf_idf_vectors[3])\n",
    "tfidf9 = get_cosine_similarity(tf_idf_vectors[2], tf_idf_vectors[4])\n",
    "tfidf10 = get_cosine_similarity(tf_idf_vectors[3], tf_idf_vectors[4])"
   ],
   "outputs": [],
   "metadata": {}
  },
  {
   "cell_type": "code",
   "execution_count": 77,
   "source": [
    "# tfidf_b1 = get_cosine_similarity(tfidf_bag[0], tfidf_bag[1])\n",
    "# tfidf_b2 = get_cosine_similarity(tfidf_bag[0], tfidf_bag[2])\n",
    "# tfidf_b3 = get_cosine_similarity(tfidf_bag[0], tfidf_bag[3])\n",
    "# tfidf_b4 = get_cosine_similarity(tfidf_bag[0], tfidf_bag[4])\n",
    "# tfidf_b5 = get_cosine_similarity(tfidf_bag[1], tfidf_bag[2])\n",
    "# tfidf_b6 = get_cosine_similarity(tfidf_bag[1], tfidf_bag[3])\n",
    "# tfidf_b7 = get_cosine_similarity(tfidf_bag[1], tfidf_bag[4])\n",
    "# tfidf_b8 = get_cosine_similarity(tfidf_bag[2], tfidf_bag[3])\n",
    "# tfidf_b9 = get_cosine_similarity(tfidf_bag[2], tfidf_bag[4])\n",
    "# tfidf_b10 = get_cosine_similarity(tfidf_bag[3], tfidf_bag[4])"
   ],
   "outputs": [],
   "metadata": {}
  },
  {
   "cell_type": "code",
   "execution_count": 81,
   "source": [
    "import matplotlib.pyplot as plt\n",
    "import numpy as np\n",
    "# Ensure that the picture is displayed normally in the browser\n",
    "%matplotlib inline\n",
    "\n",
    "x = np.array([\"1&2\", \"1&3\", \"1&4\", \"1&5\", \"2&3\", \"2&4\", \"2&5\", \"3&4\", \"3&5\", \"4&5\"])\n",
    "y1 = np.array([jac_sim1, jac_sim2, jac_sim3, jac_sim4, jac_sim5, jac_sim6, jac_sim7, jac_sim8, jac_sim9, jac_sim10])\n",
    "y2 = np.array([tfidf1, tfidf2, tfidf3, tfidf4, tfidf5, tfidf6, tfidf7, tfidf8, tfidf9, tfidf10])\n",
    "# y3 = np.array([tfidf_b1, tfidf_b2, tfidf_b3, tfidf_b4, tfidf_b5, tfidf_b6, tfidf_b7, tfidf_b8, tfidf_b9, tfidf_b10])\n",
    "\n",
    "plt.scatter(x, y1, marker='o', label=\"Jaccard\")\n",
    "plt.scatter(x, y2, marker='^', label=\"Tf-idf\")\n",
    "# plt.scatter(x, y3, marker='*', label=\"Bag of word\")\n",
    "plt.legend(loc='best')\n",
    "plt.show()\n",
    "print(\"Text1-Covid-19 vaccination\\n\"\n",
    "       \"Text2-Covid-19 situation\\n\"\n",
    "       \"Text3-Introduction of Tim Berners-Lee\\n\"\n",
    "       \"Text4-Introduction of Kyrie Irving\\n\"\n",
    "       \"Text5-Kyrie Irving rejected Covid-19 vaccination\")"
   ],
   "outputs": [
    {
     "output_type": "display_data",
     "data": {
      "image/png": "[encoded data removed]",
      "text/plain": [
       "<Figure size 432x288 with 1 Axes>"
      ]
     },
     "metadata": {
      "needs_background": "light"
     }
    },
    {
     "output_type": "stream",
     "name": "stdout",
     "text": [
      "Text1-Covid-19 vaccination\n",
      "Text2-Covid-19 situation\n",
      "Text3-Introduction of Tim Berners-Lee\n",
      "Text4-Introduction of Kyrie Irving\n",
      "Text5-Kyrie Irving rejected Covid-19 vaccination\n"
     ]
    }
   ],
   "metadata": {
    "scrolled": true
   }
  },
  {
   "cell_type": "code",
   "execution_count": null,
   "source": [],
   "outputs": [],
   "metadata": {}
  }
 ],
 "metadata": {
  "kernelspec": {
   "display_name": "Python 3 (ipykernel)",
   "language": "python",
   "name": "python3"
  },
  "language_info": {
   "codemirror_mode": {
    "name": "ipython",
    "version": 3
   },
   "file_extension": ".py",
   "mimetype": "text/x-python",
   "name": "python",
   "nbconvert_exporter": "python",
   "pygments_lexer": "ipython3",
   "version": "3.7.11"
  }
 },
 "nbformat": 4,
 "nbformat_minor": 5
}