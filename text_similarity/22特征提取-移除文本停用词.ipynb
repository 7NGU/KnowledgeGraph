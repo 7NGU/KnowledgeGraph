{
 "cells": [
  {
   "cell_type": "code",
   "execution_count": 1,
   "id": "fd29c64c",
   "metadata": {},
   "outputs": [],
   "source": [
    "from nltk import data\n",
    "data.path.append(\"/Users/leonwong/nltk_data\")\n",
    "\n",
    "from nltk import word_tokenize"
   ]
  },
  {
   "cell_type": "code",
   "execution_count": 2,
   "id": "765917bf",
   "metadata": {},
   "outputs": [],
   "source": [
    "sentence = \"She sells seashells on the seashore\""
   ]
  },
  {
   "cell_type": "code",
   "execution_count": 3,
   "id": "f5311adf",
   "metadata": {},
   "outputs": [],
   "source": [
    "custom_stop_words_list = [\"she\", \"on\", \"the\", \"am\", \"is\", \"not\"]"
   ]
  },
  {
   "cell_type": "code",
   "execution_count": 4,
   "id": "2aeb6d41",
   "metadata": {},
   "outputs": [],
   "source": [
    "def remove_stop_words(text, stop_word_list):\n",
    "    return \" \".join([word for word in word_tokenize(text) if word.lower() not in stop_word_list])"
   ]
  },
  {
   "cell_type": "code",
   "execution_count": 6,
   "id": "dbf41d4d",
   "metadata": {},
   "outputs": [
    {
     "data": {
      "text/plain": [
       "'sells seashells seashore'"
      ]
     },
     "execution_count": 6,
     "metadata": {},
     "output_type": "execute_result"
    }
   ],
   "source": [
    "remove_stop_words(sentence, custom_stop_words_list)"
   ]
  },
  {
   "cell_type": "code",
   "execution_count": null,
   "id": "f6bdf116",
   "metadata": {},
   "outputs": [],
   "source": []
  }
 ],
 "metadata": {
  "kernelspec": {
   "display_name": "Python 3 (ipykernel)",
   "language": "python",
   "name": "python3"
  },
  "language_info": {
   "codemirror_mode": {
    "name": "ipython",
    "version": 3
   },
   "file_extension": ".py",
   "mimetype": "text/x-python",
   "name": "python",
   "nbconvert_exporter": "python",
   "pygments_lexer": "ipython3",
   "version": "3.7.11"
  }
 },
 "nbformat": 4,
 "nbformat_minor": 5
}
