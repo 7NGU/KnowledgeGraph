{
 "cells": [
  {
   "cell_type": "code",
   "execution_count": 1,
   "id": "0fc92c77",
   "metadata": {},
   "outputs": [],
   "source": [
    "from nltk import data\n",
    "data.path.append(\"/Users/leonwong/nltk_data\")\n",
    "\n",
    "from nltk import word_tokenize #divide words\n",
    "from nltk.tokenize import RegexpTokenizer\n",
    "from nltk.stem.wordnet import WordNetLemmatizer #extract word stem\n",
    "from nltk.corpus import stopwords #stopwords list\n",
    "\n",
    "from sklearn.feature_extraction.text import TfidfVectorizer #calculate tf-idf\n",
    "from sklearn.metrics.pairwise import cosine_similarity #calculate cos_sim"
   ]
  },
  {
   "cell_type": "code",
   "execution_count": 2,
   "id": "fed61125",
   "metadata": {},
   "outputs": [],
   "source": [
    "#create corpus\n",
    "text1 = open(\"/Users/leonwong/Desktop/WDS/code/text_similarity/corpus/Covid_vaccination.txt\", 'r').read()\n",
    "text2 = open(\"/Users/leonwong/Desktop/WDS/code/text_similarity/corpus/Covid.txt\", 'r').read()\n",
    "text3 = open(\"/Users/leonwong/Desktop/WDS/code/text_similarity/corpus/Tim_BL.txt\", 'r').read()\n",
    "text4 = open(\"/Users/leonwong/Desktop/WDS/code/text_similarity/corpus/KI.txt\", 'r').read()\n",
    "text5 = open(\"/Users/leonwong/Desktop/WDS/code/text_similarity/corpus/KI_Covid.txt\", 'r').read()"
   ]
  },
  {
   "cell_type": "code",
   "execution_count": 3,
   "id": "8b2e344b",
   "metadata": {},
   "outputs": [],
   "source": [
    "def get_words(text):\n",
    "    tokenizer = RegexpTokenizer(r'\\w+')\n",
    "    return tokenizer.tokenize(text)\n",
    "\n",
    "def remove_stopwords(text):\n",
    "    stop_words = stopwords.words('english')\n",
    "    cleanned_words = []\n",
    "    for wd in text:\n",
    "        if wd.lower() not in stop_words:\n",
    "            cleanned_words.append(wd.lower())\n",
    "            \n",
    "    return cleanned_words\n",
    "\n",
    "def get_lemmas(text):\n",
    "    lemmatizer = WordNetLemmatizer()\n",
    "    return [lemmatizer.lemmatize(word) for word in text]"
   ]
  },
  {
   "cell_type": "code",
   "execution_count": 5,
   "id": "1d24ff36",
   "metadata": {},
   "outputs": [],
   "source": [
    "#Jaccard similarity\n",
    "def get_jaccard_similarity(text1, text2):\n",
    "    words_text1 = get_lemmas(remove_stopwords(get_words(text1)))\n",
    "    words_text2 = get_lemmas(remove_stopwords(get_words(text2)))\n",
    "    \n",
    "    nr = len(set(words_text1).intersection(set(words_text2)))\n",
    "    dr = len(set(words_text2).union(set(words_text2)))\n",
    "    \n",
    "    jaccard_sim = nr / dr\n",
    "    return jaccard_sim"
   ]
  },
  {
   "cell_type": "code",
   "execution_count": 6,
   "id": "3da50986",
   "metadata": {},
   "outputs": [],
   "source": [
    "#TF-IDF and Cosine similarity\n",
    "\n",
    "#preprocess for tfidf vectorize\n",
    "def preprocess(text):\n",
    "    text_without_stopwords = \"\"\n",
    "    for wd in get_lemmas(remove_stopwords(get_words(text))):\n",
    "        text_without_stopwords += ' ' + wd\n",
    "    return text_without_stopwords\n",
    "\n",
    "#extract the document feature vector\n",
    "def get_tf_idf_vectors(corpus):\n",
    "    tfidf_vectorizer = TfidfVectorizer(smooth_idf=True)\n",
    "    tfidf_results = tfidf_vectorizer.fit_transform(corpus).todense()\n",
    "    return tfidf_results\n",
    "\n",
    "#combine all corpus\n",
    "corpus = [preprocess(text1), preprocess(text2), preprocess(text3), preprocess(text4), preprocess(text5)]\n",
    "tf_idf_vectors = get_tf_idf_vectors(corpus)\n",
    "\n",
    "#get the cosine similarity\n",
    "def get_cosine_similarity(vector1, vector2):\n",
    "    return cosine_similarity(vector1, vector2)"
   ]
  },
  {
   "cell_type": "code",
   "execution_count": 7,
   "id": "35ec7a64",
   "metadata": {},
   "outputs": [],
   "source": [
    "jac_sim1 = get_jaccard_similarity(text1, text2)\n",
    "jac_sim2 = get_jaccard_similarity(text1, text3)\n",
    "jac_sim3 = get_jaccard_similarity(text1, text4)\n",
    "jac_sim4 = get_jaccard_similarity(text1, text5)\n",
    "jac_sim5 = get_jaccard_similarity(text2, text3)\n",
    "jac_sim6 = get_jaccard_similarity(text2, text4)\n",
    "jac_sim7 = get_jaccard_similarity(text2, text5)\n",
    "jac_sim8 = get_jaccard_similarity(text3, text4)\n",
    "jac_sim9 = get_jaccard_similarity(text3, text5)\n",
    "jac_sim10 = get_jaccard_similarity(text4, text5)"
   ]
  },
  {
   "cell_type": "code",
   "execution_count": 8,
   "id": "1d41ca53",
   "metadata": {},
   "outputs": [],
   "source": [
    "tfidf1 = get_cosine_similarity(tf_idf_vectors[0], tf_idf_vectors[1])\n",
    "tfidf2 = get_cosine_similarity(tf_idf_vectors[0], tf_idf_vectors[2])\n",
    "tfidf3 = get_cosine_similarity(tf_idf_vectors[0], tf_idf_vectors[3])\n",
    "tfidf4 = get_cosine_similarity(tf_idf_vectors[0], tf_idf_vectors[4])\n",
    "tfidf5 = get_cosine_similarity(tf_idf_vectors[1], tf_idf_vectors[2])\n",
    "tfidf6 = get_cosine_similarity(tf_idf_vectors[1], tf_idf_vectors[3])\n",
    "tfidf7 = get_cosine_similarity(tf_idf_vectors[1], tf_idf_vectors[4])\n",
    "tfidf8 = get_cosine_similarity(tf_idf_vectors[2], tf_idf_vectors[3])\n",
    "tfidf9 = get_cosine_similarity(tf_idf_vectors[2], tf_idf_vectors[4])\n",
    "tfidf10 = get_cosine_similarity(tf_idf_vectors[3], tf_idf_vectors[4])"
   ]
  },
  {
   "cell_type": "code",
   "execution_count": 10,
   "id": "878d9aa0",
   "metadata": {},
   "outputs": [
    {
     "data": {
      "image/png": "[encoded data removed]",
      "text/plain": [
       "<Figure size 432x288 with 1 Axes>"
      ]
     },
     "metadata": {
      "needs_background": "light"
     },
     "output_type": "display_data"
    },
    {
     "name": "stdout",
     "output_type": "stream",
     "text": [
      "Text Theme:\n",
      "1: Covid-19 vaccination\n",
      "2: Covid-19 situation\n",
      "3: Introduction of Tim Berners-Lee\n",
      "4: Introduction of Kyrie Irving\n",
      "5: Kyrie Irving rejected Covid-19 vaccination\n"
     ]
    }
   ],
   "source": [
    "import matplotlib.pyplot as plt\n",
    "import numpy as np\n",
    "# Ensure that the picture is displayed normally in the browser\n",
    "%matplotlib inline\n",
    "\n",
    "x = np.array([\"1&2\", \"1&3\", \"1&4\", \"1&5\", \"2&3\", \"2&4\", \"2&5\", \"3&4\", \"3&5\", \"4&5\"])\n",
    "y1 = np.array([jac_sim1, jac_sim2, jac_sim3, jac_sim4, jac_sim5, jac_sim6, jac_sim7, jac_sim8, jac_sim9, jac_sim10])\n",
    "y2 = np.array([tfidf1, tfidf2, tfidf3, tfidf4, tfidf5, tfidf6, tfidf7, tfidf8, tfidf9, tfidf10])\n",
    "\n",
    "\n",
    "plt.scatter(x, y1, marker='o', label=\"Jaccard\")\n",
    "plt.scatter(x, y2, marker='^', label=\"TF-IDF\")\n",
    "\n",
    "plt.legend(loc='best')\n",
    "plt.show()\n",
    "print(\"Text Theme:\\n\"\n",
    "      \"1: Covid-19 vaccination\\n\"\n",
    "       \"2: Covid-19 situation\\n\"\n",
    "       \"3: Introduction of Tim Berners-Lee\\n\"\n",
    "       \"4: Introduction of Kyrie Irving\\n\"\n",
    "       \"5: Kyrie Irving rejected Covid-19 vaccination\")"
   ]
  },
  {
   "cell_type": "code",
   "execution_count": null,
   "id": "7e84fe7c",
   "metadata": {},
   "outputs": [],
   "source": []
  }
 ],
 "metadata": {
  "kernelspec": {
   "display_name": "Python 3 (ipykernel)",
   "language": "python",
   "name": "python3"
  },
  "language_info": {
   "codemirror_mode": {
    "name": "ipython",
    "version": 3
   },
   "file_extension": ".py",
   "mimetype": "text/x-python",
   "name": "python",
   "nbconvert_exporter": "python",
   "pygments_lexer": "ipython3",
   "version": "3.7.11"
  }
 },
 "nbformat": 4,
 "nbformat_minor": 5
}
