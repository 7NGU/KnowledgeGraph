{
 "cells": [
  {
   "cell_type": "code",
   "execution_count": 1,
   "id": "d9677e3d",
   "metadata": {},
   "outputs": [],
   "source": [
    "#Lemmatization 词性还原\n",
    "#不是简单地去除前后缀\n",
    "#使用WordNet，一个免费的英语词汇数据库，可以用来生成单词之间的语义关系\n",
    "#WordNetLemmatizer提供了lemmatize()方法，可以返回单词的基础形式（Lemma）"
   ]
  },
  {
   "cell_type": "code",
   "execution_count": 2,
   "id": "9fb8dc9e",
   "metadata": {},
   "outputs": [],
   "source": [
    "from nltk import data\n",
    "data.path.append('/Users/leonwong/nltk_data')\n",
    "\n",
    "from nltk.stem.wordnet import WordNetLemmatizer"
   ]
  },
  {
   "cell_type": "code",
   "execution_count": 3,
   "id": "864533eb",
   "metadata": {},
   "outputs": [],
   "source": [
    "#词性还原器\n",
    "lemmatizer = WordNetLemmatizer()"
   ]
  },
  {
   "cell_type": "code",
   "execution_count": 4,
   "id": "9aa47766",
   "metadata": {},
   "outputs": [],
   "source": [
    "def get_lemma(word):\n",
    "    return lemmatizer.lemmatize(word)"
   ]
  },
  {
   "cell_type": "code",
   "execution_count": 12,
   "id": "26a247b2",
   "metadata": {},
   "outputs": [
    {
     "data": {
      "text/plain": [
       "'leaf'"
      ]
     },
     "execution_count": 12,
     "metadata": {},
     "output_type": "execute_result"
    }
   ],
   "source": [
    "get_lemma('leaves')"
   ]
  },
  {
   "cell_type": "code",
   "execution_count": 13,
   "id": "3cdedcb9",
   "metadata": {},
   "outputs": [
    {
     "data": {
      "text/plain": [
       "'battling'"
      ]
     },
     "execution_count": 13,
     "metadata": {},
     "output_type": "execute_result"
    }
   ],
   "source": [
    "get_lemma('battling')"
   ]
  },
  {
   "cell_type": "code",
   "execution_count": 14,
   "id": "ccdfc010",
   "metadata": {},
   "outputs": [],
   "source": [
    "#对动词的还原效果不好，我们需要添加此行标注来提升效果\n",
    "def get_lemma(word, pos):\n",
    "    return lemmatizer.lemmatize(word, pos)"
   ]
  },
  {
   "cell_type": "code",
   "execution_count": 16,
   "id": "a4558c8d",
   "metadata": {},
   "outputs": [
    {
     "data": {
      "text/plain": [
       "'battle'"
      ]
     },
     "execution_count": 16,
     "metadata": {},
     "output_type": "execute_result"
    }
   ],
   "source": [
    "get_lemma('battling', 'v')"
   ]
  },
  {
   "cell_type": "code",
   "execution_count": 20,
   "id": "5014db56",
   "metadata": {},
   "outputs": [
    {
     "data": {
      "text/plain": [
       "'do'"
      ]
     },
     "execution_count": 20,
     "metadata": {},
     "output_type": "execute_result"
    }
   ],
   "source": [
    "get_lemma('did', 'v')"
   ]
  },
  {
   "cell_type": "code",
   "execution_count": null,
   "id": "91d925fd",
   "metadata": {},
   "outputs": [],
   "source": []
  }
 ],
 "metadata": {
  "kernelspec": {
   "display_name": "Python 3 (ipykernel)",
   "language": "python",
   "name": "python3"
  },
  "language_info": {
   "codemirror_mode": {
    "name": "ipython",
    "version": 3
   },
   "file_extension": ".py",
   "mimetype": "text/x-python",
   "name": "python",
   "nbconvert_exporter": "python",
   "pygments_lexer": "ipython3",
   "version": "3.7.11"
  }
 },
 "nbformat": 4,
 "nbformat_minor": 5
}
