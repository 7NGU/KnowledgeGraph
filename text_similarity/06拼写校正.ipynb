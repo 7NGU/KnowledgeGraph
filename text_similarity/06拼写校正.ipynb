{
 "cells": [
  {
   "cell_type": "code",
   "execution_count": 1,
   "id": "29809654",
   "metadata": {},
   "outputs": [],
   "source": [
    "#Two steps \n",
    "#1-识别拼写错误的单词，可以通过字典查找实现\n",
    "#2-替换该词，有很多算法，其中之一是最小编辑距离算法，它为拼写错误的单词选择最近的正确拼写单词\n",
    "#使用python自动纠正库（autocorrect），提供spell方法，接受一个单词作为输入，并返回单词的正确拼写"
   ]
  },
  {
   "cell_type": "code",
   "execution_count": 3,
   "id": "9cac3a3e",
   "metadata": {},
   "outputs": [],
   "source": [
    "from nltk import data, word_tokenize\n",
    "data.path.append('/Users/leonwong/nltk_data')\n",
    "\n",
    "from autocorrect import Speller"
   ]
  },
  {
   "cell_type": "code",
   "execution_count": 4,
   "id": "c6d6d255",
   "metadata": {},
   "outputs": [
    {
     "data": {
      "text/plain": [
       "'Natural'"
      ]
     },
     "execution_count": 4,
     "metadata": {},
     "output_type": "execute_result"
    }
   ],
   "source": [
    "spell = Speller(lang = 'en')\n",
    "spell('Natureal')"
   ]
  },
  {
   "cell_type": "code",
   "execution_count": 7,
   "id": "9468b8d5",
   "metadata": {},
   "outputs": [
    {
     "data": {
      "text/plain": [
       "'Tomorrow is another day'"
      ]
     },
     "execution_count": 7,
     "metadata": {},
     "output_type": "execute_result"
    }
   ],
   "source": [
    "spell(\"Tomorow is anther daey\")"
   ]
  },
  {
   "cell_type": "code",
   "execution_count": 14,
   "id": "e3a07d73",
   "metadata": {},
   "outputs": [
    {
     "name": "stdout",
     "output_type": "stream",
     "text": [
      "['Ntural', 'Luanguage', 'Processin', 'deals', 'with', 'theart', 'of', 'extracting', 'insightes', 'from', 'Natural', 'Languaes']\n"
     ]
    }
   ],
   "source": [
    "#对于一个语句，先进性分词，然后循环遍历每个词自动更正，最后组合\n",
    "sentence = word_tokenize(\"Ntural Luanguage Processin deals with the\" + \"art of extracting insightes from Natural Languaes\")\n",
    "\n",
    "print(sentence)"
   ]
  },
  {
   "cell_type": "code",
   "execution_count": 15,
   "id": "f3b2c569",
   "metadata": {},
   "outputs": [],
   "source": [
    "def correct_spelling(tokens):\n",
    "    sentence_corrected = ' '.join([spell(word) for word in tokens])\n",
    "    return sentence_corrected"
   ]
  },
  {
   "cell_type": "code",
   "execution_count": 16,
   "id": "d4fb96bd",
   "metadata": {},
   "outputs": [
    {
     "name": "stdout",
     "output_type": "stream",
     "text": [
      "Natural Language Processing deals with heart of extracting insights from Natural Languages\n"
     ]
    }
   ],
   "source": [
    "print(correct_spelling(sentence))\n"
   ]
  },
  {
   "cell_type": "code",
   "execution_count": null,
   "id": "fb66f13f",
   "metadata": {},
   "outputs": [],
   "source": [
    " "
   ]
  }
 ],
 "metadata": {
  "kernelspec": {
   "display_name": "Python 3 (ipykernel)",
   "language": "python",
   "name": "python3"
  },
  "language_info": {
   "codemirror_mode": {
    "name": "ipython",
    "version": 3
   },
   "file_extension": ".py",
   "mimetype": "text/x-python",
   "name": "python",
   "nbconvert_exporter": "python",
   "pygments_lexer": "ipython3",
   "version": "3.7.11"
  }
 },
 "nbformat": 4,
 "nbformat_minor": 5
}
