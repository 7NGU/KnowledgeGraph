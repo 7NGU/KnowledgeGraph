{
 "cells": [
  {
   "cell_type": "code",
   "execution_count": 1,
   "id": "95b9e040",
   "metadata": {},
   "outputs": [],
   "source": [
    "#英语语料处理的必要步骤（中文不存在这个问题）\n",
    "#例如product和production的意义其实是一样的\n",
    "#词干提取是去除单词的前后缀得到词根的过程，词形还原是基于词典将单词复杂形态转变为最基础形态的过程"
   ]
  },
  {
   "cell_type": "code",
   "execution_count": 2,
   "id": "bb07491b",
   "metadata": {},
   "outputs": [],
   "source": [
    "#Porter\n",
    "#Snowball\n",
    "#Lancaster 比较激进"
   ]
  },
  {
   "cell_type": "code",
   "execution_count": 3,
   "id": "409dbec2",
   "metadata": {},
   "outputs": [],
   "source": [
    "from nltk import stem"
   ]
  },
  {
   "cell_type": "code",
   "execution_count": 6,
   "id": "beda0d85",
   "metadata": {},
   "outputs": [
    {
     "data": {
      "text/plain": [
       "'product'"
      ]
     },
     "execution_count": 6,
     "metadata": {},
     "output_type": "execute_result"
    }
   ],
   "source": [
    "#Porter\n",
    "def get_stems(word, stemmer):\n",
    "    return stemmer.stem(word)\n",
    "\n",
    "porterStem = stem.PorterStemmer() #定义词干提取为porter\n",
    "get_stems(\"production\", porterStem)"
   ]
  },
  {
   "cell_type": "code",
   "execution_count": 9,
   "id": "d33cba6f",
   "metadata": {},
   "outputs": [
    {
     "data": {
      "text/plain": [
       "'come'"
      ]
     },
     "execution_count": 9,
     "metadata": {},
     "output_type": "execute_result"
    }
   ],
   "source": [
    "get_stems(\"coming\", porterStem)"
   ]
  },
  {
   "cell_type": "code",
   "execution_count": 10,
   "id": "07ae18a8",
   "metadata": {},
   "outputs": [
    {
     "data": {
      "text/plain": [
       "'fire'"
      ]
     },
     "execution_count": 10,
     "metadata": {},
     "output_type": "execute_result"
    }
   ],
   "source": [
    "get_stems(\"firing\", porterStem)"
   ]
  },
  {
   "cell_type": "code",
   "execution_count": 18,
   "id": "af3cd121",
   "metadata": {},
   "outputs": [
    {
     "data": {
      "text/plain": [
       "'match'"
      ]
     },
     "execution_count": 18,
     "metadata": {},
     "output_type": "execute_result"
    }
   ],
   "source": [
    "get_stems(\"matches\", porterStem)"
   ]
  },
  {
   "cell_type": "code",
   "execution_count": 19,
   "id": "3c4f3ff0",
   "metadata": {},
   "outputs": [
    {
     "data": {
      "text/plain": [
       "'battl'"
      ]
     },
     "execution_count": 19,
     "metadata": {},
     "output_type": "execute_result"
    }
   ],
   "source": [
    "#Snowball\n",
    "stemmer = stem.SnowballStemmer(\"english\")#定义词干提取为snowball，语言为英文\n",
    "get_stems(\"battling\", stemmer)"
   ]
  },
  {
   "cell_type": "code",
   "execution_count": 20,
   "id": "6f593482",
   "metadata": {},
   "outputs": [
    {
     "data": {
      "text/plain": [
       "'fish'"
      ]
     },
     "execution_count": 20,
     "metadata": {},
     "output_type": "execute_result"
    }
   ],
   "source": [
    "#Lancaster\n",
    "stemmer = stem.LancasterStemmer()\n",
    "get_stems(\"fishes\", stemmer)"
   ]
  },
  {
   "cell_type": "code",
   "execution_count": null,
   "id": "da6df737",
   "metadata": {},
   "outputs": [],
   "source": []
  }
 ],
 "metadata": {
  "kernelspec": {
   "display_name": "Python 3 (ipykernel)",
   "language": "python",
   "name": "python3"
  },
  "language_info": {
   "codemirror_mode": {
    "name": "ipython",
    "version": 3
   },
   "file_extension": ".py",
   "mimetype": "text/x-python",
   "name": "python",
   "nbconvert_exporter": "python",
   "pygments_lexer": "ipython3",
   "version": "3.7.11"
  }
 },
 "nbformat": 4,
 "nbformat_minor": 5
}
