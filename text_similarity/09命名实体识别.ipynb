{
 "cells": [
  {
   "cell_type": "code",
   "execution_count": 1,
   "id": "83fc8597",
   "metadata": {},
   "outputs": [],
   "source": [
    "#Named Entity Recognition 人名、地名等特殊实体\n",
    "#Chunking 是把单词组合成 分块（chunk）的过程，可以用来查找名词组和动词组，也可以用来分割句子"
   ]
  },
  {
   "cell_type": "code",
   "execution_count": 1,
   "id": "87af6735",
   "metadata": {},
   "outputs": [],
   "source": [
    "from nltk import data\n",
    "data.path.append('/Users/leonwong/nltk_data')\n",
    "\n",
    "from nltk import pos_tag #词性标注\n",
    "from nltk import ne_chunk #分块\n",
    "from nltk import word_tokenize #分词"
   ]
  },
  {
   "cell_type": "code",
   "execution_count": 3,
   "id": "54b9dd9b",
   "metadata": {},
   "outputs": [
    {
     "data": {
      "text/plain": [
       "\"Leon's Adventures in Wonderland is a popular novel in China.\""
      ]
     },
     "execution_count": 3,
     "metadata": {},
     "output_type": "execute_result"
    }
   ],
   "source": [
    "sentence = \"Leon's Adventures in Wonderland is a popular novel in China.\"\n",
    "sentence"
   ]
  },
  {
   "cell_type": "code",
   "execution_count": 5,
   "id": "bffc2707",
   "metadata": {},
   "outputs": [
    {
     "data": {
      "text/plain": [
       "[Tree('NE', [('Leon', 'NNP')]),\n",
       " Tree('NE', [('Wonderland', 'NNP')]),\n",
       " Tree('NE', [('China', 'NNP')])]"
      ]
     },
     "execution_count": 5,
     "metadata": {},
     "output_type": "execute_result"
    }
   ],
   "source": [
    "def get_ner(text):\n",
    "    words = word_tokenize(text)\n",
    "    pos = pos_tag(words)\n",
    "    i = ne_chunk(pos, binary=True)\n",
    "#     i = ne_chunk(pos_tag(word_tokenize(text)), binary=True)\n",
    "    return [a for a in i if len(a)==1]\n",
    "    #return i\n",
    "\n",
    "get_ner(sentence)\n",
    "#NNP即专有名词"
   ]
  },
  {
   "cell_type": "code",
   "execution_count": 10,
   "id": "e9c77c30",
   "metadata": {},
   "outputs": [],
   "source": [
    "import jieba\n",
    "import jieba.analyse\n",
    "import jieba.posseg as posg"
   ]
  },
  {
   "cell_type": "code",
   "execution_count": 12,
   "id": "14680cc0",
   "metadata": {},
   "outputs": [
    {
     "name": "stdout",
     "output_type": "stream",
     "text": [
      "爱丽丝 5.321290557\n",
      "英国 2.513184806695\n"
     ]
    }
   ],
   "source": [
    "sentence = u'''爱丽丝梦游仙境是一部在英国很受欢迎的小说'''\n",
    "kw = jieba.analyse.extract_tags(sentence, topK=10, withWeight=True, allowPOS=('ns', 'nr'))\n",
    "\n",
    "for item in kw:\n",
    "    print(item[0], item[1])"
   ]
  },
  {
   "cell_type": "code",
   "execution_count": null,
   "id": "9d420a29",
   "metadata": {},
   "outputs": [],
   "source": []
  }
 ],
 "metadata": {
  "kernelspec": {
   "display_name": "Python 3 (ipykernel)",
   "language": "python",
   "name": "python3"
  },
  "language_info": {
   "codemirror_mode": {
    "name": "ipython",
    "version": 3
   },
   "file_extension": ".py",
   "mimetype": "text/x-python",
   "name": "python",
   "nbconvert_exporter": "python",
   "pygments_lexer": "ipython3",
   "version": "3.7.11"
  }
 },
 "nbformat": 4,
 "nbformat_minor": 5
}
