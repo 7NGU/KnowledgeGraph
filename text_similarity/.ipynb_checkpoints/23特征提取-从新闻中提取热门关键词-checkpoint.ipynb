{
 "cells": [
  {
   "cell_type": "code",
   "execution_count": 1,
   "id": "d85f8dbc",
   "metadata": {},
   "outputs": [],
   "source": [
    "from nltk import data\n",
    "data.path.append(\"/Users/leonwong/nltk_data\")\n",
    "\n",
    "import operator\n",
    "\n",
    "from nltk.tokenize import WhitespaceTokenizer\n",
    "from nltk import stem\n",
    "from nltk.corpus import stopwords"
   ]
  },
  {
   "cell_type": "code",
   "execution_count": 2,
   "id": "389505c0",
   "metadata": {},
   "outputs": [],
   "source": [
    "def load_file(file_path):\n",
    "    news = ''.join([line for line in open(file_path, encoding='utf-8')])\n",
    "    return news"
   ]
  },
  {
   "cell_type": "code",
   "execution_count": 3,
   "id": "24a8f0a6",
   "metadata": {},
   "outputs": [],
   "source": [
    "def to_lower_case(text):\n",
    "    return text.lower()"
   ]
  },
  {
   "cell_type": "code",
   "execution_count": 5,
   "id": "4decf50c",
   "metadata": {},
   "outputs": [],
   "source": [
    "wht = WhitespaceTokenizer()\n",
    "\n",
    "def tokenize_text(text):\n",
    "    return wht.tokenize(text=text)"
   ]
  },
  {
   "cell_type": "code",
   "execution_count": 6,
   "id": "e30ac4b0",
   "metadata": {},
   "outputs": [],
   "source": [
    "stop_words = stopwords.words('english')\n",
    "\n",
    "def remove_stop_words(token_list):\n",
    "    return [word for word in token_list if word not in stop_words]"
   ]
  },
  {
   "cell_type": "code",
   "execution_count": 7,
   "id": "8906c545",
   "metadata": {},
   "outputs": [],
   "source": [
    "stemmer = stem.PorterStemmer()\n",
    "\n",
    "def get_stems(token_list):\n",
    "    return [stemmer.stem(word) for word in token_list]"
   ]
  },
  {
   "cell_type": "code",
   "execution_count": 16,
   "id": "fdd547a0",
   "metadata": {},
   "outputs": [],
   "source": [
    "#词频统计函数\n",
    "def get_freq(stem):\n",
    "    freq_dict = {}\n",
    "    for t in stems:\n",
    "        freq_dict[t.strip()] = freq_dict.get(t.strip(), 0) + 1\n",
    "    return freq_dict"
   ]
  },
  {
   "cell_type": "code",
   "execution_count": 25,
   "id": "4ce4e770",
   "metadata": {},
   "outputs": [],
   "source": [
    "#关键字提取函数\n",
    "def get_top_n_words(freq_dict, n):\n",
    "    sorted_dict = sorted(freq_dict.items(), key=operator.itemgetter(1), reverse=True)\n",
    "    return [x[0] for x in sorted_dict][:n]"
   ]
  },
  {
   "cell_type": "code",
   "execution_count": 26,
   "id": "bed2312f",
   "metadata": {},
   "outputs": [],
   "source": [
    "path = \"/Users/leonwong/Desktop/WDS/code/text_similarity/dataset/file.txt\"\n",
    "news_article = load_file(path)"
   ]
  },
  {
   "cell_type": "code",
   "execution_count": 27,
   "id": "3056e3cd",
   "metadata": {},
   "outputs": [],
   "source": [
    "lower_case_news_art = to_lower_case(news_article)"
   ]
  },
  {
   "cell_type": "code",
   "execution_count": 28,
   "id": "75d74210",
   "metadata": {},
   "outputs": [],
   "source": [
    "tokens = tokenize_text(lower_case_news_art)"
   ]
  },
  {
   "cell_type": "code",
   "execution_count": 29,
   "id": "06d276ba",
   "metadata": {},
   "outputs": [],
   "source": [
    "removed_tokens = remove_stop_words(tokens)"
   ]
  },
  {
   "cell_type": "code",
   "execution_count": 30,
   "id": "9278c6ac",
   "metadata": {},
   "outputs": [],
   "source": [
    "stems = get_stems(removed_tokens)"
   ]
  },
  {
   "cell_type": "code",
   "execution_count": 31,
   "id": "6581f455",
   "metadata": {},
   "outputs": [],
   "source": [
    "freq_dict = get_freq(stems)"
   ]
  },
  {
   "cell_type": "code",
   "execution_count": 32,
   "id": "50d5de25",
   "metadata": {},
   "outputs": [
    {
     "data": {
      "text/plain": [
       "['shanghai', 'pla', \"people'\", 'build', 'kuomintang']"
      ]
     },
     "execution_count": 32,
     "metadata": {},
     "output_type": "execute_result"
    }
   ],
   "source": [
    "#提取Top5关键词\n",
    "top_keywords = get_top_n_words(freq_dict, 5)\n",
    "top_keywords"
   ]
  },
  {
   "cell_type": "code",
   "execution_count": null,
   "id": "ecad57fc",
   "metadata": {},
   "outputs": [],
   "source": []
  }
 ],
 "metadata": {
  "kernelspec": {
   "display_name": "Python 3 (ipykernel)",
   "language": "python",
   "name": "python3"
  },
  "language_info": {
   "codemirror_mode": {
    "name": "ipython",
    "version": 3
   },
   "file_extension": ".py",
   "mimetype": "text/x-python",
   "name": "python",
   "nbconvert_exporter": "python",
   "pygments_lexer": "ipython3",
   "version": "3.7.11"
  }
 },
 "nbformat": 4,
 "nbformat_minor": 5
}
