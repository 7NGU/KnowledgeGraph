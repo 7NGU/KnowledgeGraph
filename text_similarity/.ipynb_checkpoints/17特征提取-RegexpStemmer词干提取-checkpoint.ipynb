{
 "cells": [
  {
   "cell_type": "code",
   "execution_count": 1,
   "id": "15aa5992",
   "metadata": {},
   "outputs": [],
   "source": [
    "from nltk.stem import RegexpStemmer"
   ]
  },
  {
   "cell_type": "code",
   "execution_count": 6,
   "id": "77fb4cc2",
   "metadata": {},
   "outputs": [],
   "source": [
    "def get_stems(text):#正则化\n",
    "    regex_stemmer = RegexpStemmer('ing$', min=4)\n",
    "    \n",
    "    return ' '.join([regex_stemmer.stem(wd) for wd in text.split()])"
   ]
  },
  {
   "cell_type": "code",
   "execution_count": 7,
   "id": "73ec4df2",
   "metadata": {},
   "outputs": [
    {
     "data": {
      "text/plain": [
       "'I am play football'"
      ]
     },
     "execution_count": 7,
     "metadata": {},
     "output_type": "execute_result"
    }
   ],
   "source": [
    "sentence = \"I am playing football\"\n",
    "get_stems(sentence)"
   ]
  },
  {
   "cell_type": "code",
   "execution_count": null,
   "id": "4d7a81dd",
   "metadata": {},
   "outputs": [],
   "source": []
  }
 ],
 "metadata": {
  "kernelspec": {
   "display_name": "Python 3 (ipykernel)",
   "language": "python",
   "name": "python3"
  },
  "language_info": {
   "codemirror_mode": {
    "name": "ipython",
    "version": 3
   },
   "file_extension": ".py",
   "mimetype": "text/x-python",
   "name": "python",
   "nbconvert_exporter": "python",
   "pygments_lexer": "ipython3",
   "version": "3.7.11"
  }
 },
 "nbformat": 4,
 "nbformat_minor": 5
}
