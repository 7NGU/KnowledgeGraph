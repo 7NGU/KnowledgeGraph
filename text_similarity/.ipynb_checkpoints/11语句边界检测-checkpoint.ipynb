{
 "cells": [
  {
   "cell_type": "code",
   "execution_count": 1,
   "id": "038f0851",
   "metadata": {},
   "outputs": [],
   "source": [
    "#仅凭标点划分句子对于英文来说不太准确，如U.S.A.\n",
    "#使用sent_tokenize()方法"
   ]
  },
  {
   "cell_type": "code",
   "execution_count": 2,
   "id": "461e97bb",
   "metadata": {},
   "outputs": [],
   "source": [
    "from nltk import data\n",
    "data.path.append('/Users/leonwong/nltk_data')"
   ]
  },
  {
   "cell_type": "code",
   "execution_count": 3,
   "id": "db5ae5ab",
   "metadata": {},
   "outputs": [],
   "source": [
    "import nltk\n",
    "from nltk.tokenize import sent_tokenize"
   ]
  },
  {
   "cell_type": "code",
   "execution_count": 4,
   "id": "7adb8e90",
   "metadata": {},
   "outputs": [],
   "source": [
    "def get_sentences(text):\n",
    "    return sent_tokenize(text)"
   ]
  },
  {
   "cell_type": "code",
   "execution_count": 11,
   "id": "79359044",
   "metadata": {},
   "outputs": [
    {
     "data": {
      "text/plain": [
       "['Tomorrow is another day is a great song.',\n",
       " 'Do you know who is the singer?',\n",
       " 'It is Mr. Chan, whose masterpiece is the famous Thousands of Songs.']"
      ]
     },
     "execution_count": 11,
     "metadata": {},
     "output_type": "execute_result"
    }
   ],
   "source": [
    "get_sentences(\"Tomorrow is another day is a great song. Do you know who is the singer? It is Mr. Chan, whose masterpiece is the famous Thousands of Songs.\")"
   ]
  },
  {
   "cell_type": "code",
   "execution_count": null,
   "id": "bb0670f5",
   "metadata": {},
   "outputs": [],
   "source": []
  }
 ],
 "metadata": {
  "kernelspec": {
   "display_name": "Python 3 (ipykernel)",
   "language": "python",
   "name": "python3"
  },
  "language_info": {
   "codemirror_mode": {
    "name": "ipython",
    "version": 3
   },
   "file_extension": ".py",
   "mimetype": "text/x-python",
   "name": "python",
   "nbconvert_exporter": "python",
   "pygments_lexer": "ipython3",
   "version": "3.7.11"
  }
 },
 "nbformat": 4,
 "nbformat_minor": 5
}
