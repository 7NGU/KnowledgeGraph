{
 "cells": [
  {
   "cell_type": "code",
   "execution_count": 1,
   "id": "c53bc0b1",
   "metadata": {},
   "outputs": [],
   "source": [
    "#cosine相似度同构计算两个文本的向量夹角来判断是否相似\n",
    "#至于使用词袋还是TF-IDF，看具体应用场合，大致判断的情况下，词袋就可以，文本相似度进行检索类似场景用TF-IDF\n"
   ]
  },
  {
   "cell_type": "code",
   "execution_count": 5,
   "id": "a23b682e",
   "metadata": {},
   "outputs": [],
   "source": [
    "from nltk import data\n",
    "data.path.append(\"/Users/leonwong/nltk_data\")\n",
    "\n",
    "from nltk import word_tokenize\n",
    "from nltk.stem import WordNetLemmatizer\n",
    "from sklearn.feature_extraction.text import TfidfVectorizer\n",
    "from sklearn.metrics.pairwise import cosine_similarity\n",
    "\n",
    "#lemmatizer = WordNetLemmatizer()"
   ]
  },
  {
   "cell_type": "code",
   "execution_count": 6,
   "id": "5a690ff3",
   "metadata": {},
   "outputs": [],
   "source": [
    "pair1 = [\"What you do defines you\", \"Your deeds define you\"]\n",
    "pair2 = [\"Once upon a time there lived a king.\", \"Who is your queen?\"]\n",
    "pair3 = [\"He is desperate\", \"Is he not desperate?\"]"
   ]
  },
  {
   "cell_type": "code",
   "execution_count": 7,
   "id": "d460fd50",
   "metadata": {},
   "outputs": [],
   "source": [
    "#定义Jaccard相似度函数，计算步骤如下\n",
    "\"\"\"\n",
    "1、对给定句子进行分词得到集合\n",
    "2、统计分词集合A和分词集合B的交集\n",
    "3、统计分词集合A和分词集合B的并集\n",
    "4、计算交集词语数和并集词语数比值得到Jaccard相似度\n",
    "\"\"\"\n",
    "def extract_text_similarity_jaccard(text1, text2):\n",
    "    lemmatizer = WordNetLemmatizer() #提取词干\n",
    "    words_text1 = [lemmatizer.lemmatize(word.lower()) for word in word_tokenize(text1)]\n",
    "    words_text2 = [lemmatizer.lemmatize(word.lower()) for word in word_tokenize(text2)]\n",
    "    \n",
    "    nr = len(set(words_text1).intersection(set(words_text2)))\n",
    "    dr = len(set(words_text1).union(set(words_text2)))\n",
    "    \n",
    "    jaccard_sim = nr / dr\n",
    "    return jaccard_sim"
   ]
  },
  {
   "cell_type": "code",
   "execution_count": 8,
   "id": "f59ca953",
   "metadata": {},
   "outputs": [
    {
     "data": {
      "text/plain": [
       "'What you do defines you'"
      ]
     },
     "execution_count": 8,
     "metadata": {},
     "output_type": "execute_result"
    }
   ],
   "source": [
    "pair1[0]"
   ]
  },
  {
   "cell_type": "code",
   "execution_count": 12,
   "id": "b2ceb9a9",
   "metadata": {},
   "outputs": [
    {
     "data": {
      "text/plain": [
       "0.6"
      ]
     },
     "execution_count": 12,
     "metadata": {},
     "output_type": "execute_result"
    }
   ],
   "source": [
    "x = extract_text_similarity_jaccard(pair3[0], pair3[1])\n",
    "x"
   ]
  },
  {
   "cell_type": "code",
   "execution_count": 13,
   "id": "78a18053",
   "metadata": {},
   "outputs": [],
   "source": [
    "#使用TF-IDF计算余弦相似度\n",
    "\"\"\"\n",
    "1、使用TF-IDF算法，找出两篇文章的关键词\n",
    "2、每篇文章各取出若干个关键词，合并成一个集合，计算每篇文章对于这个集合中的词的词频\n",
    "3、生成两篇文章各自的词频向量\n",
    "4、计算两个向量的余弦相似度，值越大表示越相似\n",
    "\"\"\"\n",
    "#计算TF-IDF提取关键词向量\n",
    "def get_tf_idf_vectors(corpus):\n",
    "    tfidf_vectorizer = TfidfVectorizer()\n",
    "    tfidf_results = tfidf_vectorizer.fit_transform(corpus).todense()\n",
    "    return tfidf_results"
   ]
  },
  {
   "cell_type": "code",
   "execution_count": 14,
   "id": "85d50f05",
   "metadata": {},
   "outputs": [
    {
     "data": {
      "text/plain": [
       "matrix([[0.        , 0.        , 0.41923309, 0.        , 0.41923309,\n",
       "         0.        , 0.        , 0.        , 0.        , 0.        ,\n",
       "         0.        , 0.        , 0.        , 0.        , 0.        ,\n",
       "         0.41923309, 0.        , 0.68755426, 0.        ],\n",
       "        [0.54677906, 0.54677906, 0.        , 0.        , 0.        ,\n",
       "         0.        , 0.        , 0.        , 0.        , 0.        ,\n",
       "         0.        , 0.        , 0.        , 0.        , 0.        ,\n",
       "         0.        , 0.        , 0.44836665, 0.44836665],\n",
       "        [0.        , 0.        , 0.        , 0.        , 0.        ,\n",
       "         0.        , 0.        , 0.40824829, 0.40824829, 0.        ,\n",
       "         0.40824829, 0.        , 0.40824829, 0.40824829, 0.40824829,\n",
       "         0.        , 0.        , 0.        , 0.        ],\n",
       "        [0.        , 0.        , 0.        , 0.        , 0.        ,\n",
       "         0.        , 0.38996741, 0.        , 0.        , 0.        ,\n",
       "         0.        , 0.56328241, 0.        , 0.        , 0.        ,\n",
       "         0.        , 0.56328241, 0.        , 0.46189963],\n",
       "        [0.        , 0.        , 0.        , 0.60714432, 0.        ,\n",
       "         0.60714432, 0.51259296, 0.        , 0.        , 0.        ,\n",
       "         0.        , 0.        , 0.        , 0.        , 0.        ,\n",
       "         0.        , 0.        , 0.        , 0.        ],\n",
       "        [0.        , 0.        , 0.        , 0.48795307, 0.        ,\n",
       "         0.48795307, 0.41196351, 0.        , 0.        , 0.59505434,\n",
       "         0.        , 0.        , 0.        , 0.        , 0.        ,\n",
       "         0.        , 0.        , 0.        , 0.        ]])"
      ]
     },
     "execution_count": 14,
     "metadata": {},
     "output_type": "execute_result"
    }
   ],
   "source": [
    "#计算每个语句的TF-IDF\n",
    "corpus = [pair1[0], pair1[1], pair2[0], pair2[1], pair3[0], pair3[1]]\n",
    "tf_idf_vectors = get_tf_idf_vectors(corpus)\n",
    "tf_idf_vectors"
   ]
  },
  {
   "cell_type": "code",
   "execution_count": 15,
   "id": "41110795",
   "metadata": {},
   "outputs": [
    {
     "data": {
      "text/plain": [
       "array([[0.3082764]])"
      ]
     },
     "execution_count": 15,
     "metadata": {},
     "output_type": "execute_result"
    }
   ],
   "source": [
    "#计算余弦相似度\n",
    "cosine_similarity(tf_idf_vectors[0], tf_idf_vectors[1])"
   ]
  },
  {
   "cell_type": "code",
   "execution_count": 16,
   "id": "668946f1",
   "metadata": {},
   "outputs": [
    {
     "data": {
      "text/plain": [
       "array([[0.]])"
      ]
     },
     "execution_count": 16,
     "metadata": {},
     "output_type": "execute_result"
    }
   ],
   "source": [
    "cosine_similarity(tf_idf_vectors[2], tf_idf_vectors[3])"
   ]
  },
  {
   "cell_type": "code",
   "execution_count": 17,
   "id": "17150289",
   "metadata": {},
   "outputs": [
    {
     "data": {
      "text/plain": [
       "array([[0.80368547]])"
      ]
     },
     "execution_count": 17,
     "metadata": {},
     "output_type": "execute_result"
    }
   ],
   "source": [
    "cosine_similarity(tf_idf_vectors[4], tf_idf_vectors[5])"
   ]
  },
  {
   "cell_type": "code",
   "execution_count": null,
   "id": "e59d972b",
   "metadata": {},
   "outputs": [],
   "source": []
  }
 ],
 "metadata": {
  "kernelspec": {
   "display_name": "Python 3 (ipykernel)",
   "language": "python",
   "name": "python3"
  },
  "language_info": {
   "codemirror_mode": {
    "name": "ipython",
    "version": 3
   },
   "file_extension": ".py",
   "mimetype": "text/x-python",
   "name": "python",
   "nbconvert_exporter": "python",
   "pygments_lexer": "ipython3",
   "version": "3.7.11"
  }
 },
 "nbformat": 4,
 "nbformat_minor": 5
}
