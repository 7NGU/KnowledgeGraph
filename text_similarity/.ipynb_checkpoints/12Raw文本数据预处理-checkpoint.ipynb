{
 "cells": [
  {
   "cell_type": "code",
   "execution_count": 1,
   "id": "e537676a",
   "metadata": {},
   "outputs": [],
   "source": [
    "#英文语料预处理6个核心步骤：分词、词干提取、词形还原、词性标注、命名实体识别、分块\n",
    "#中文语料预处理4个核心步骤：分词、词性标注、命名实体识别、去除停用词\n",
    "#NLP项目的主要步骤：数据采集、数据预处理、特征提取、模型开发、模型评估、模型部署"
   ]
  },
  {
   "cell_type": "code",
   "execution_count": 31,
   "id": "6b5e1aff",
   "metadata": {},
   "outputs": [],
   "source": [
    "from nltk import data\n",
    "data.path.append('/Users/leonwong/nltk_data')\n",
    "\n",
    "from nltk import word_tokenize #分词\n",
    "from nltk.stem.wordnet import WordNetLemmatizer #词形还原\n",
    "from nltk.corpus import stopwords #停用词\n",
    "from autocorrect import Speller #拼写纠正\n",
    "from nltk.wsd import lesk #词义消歧\n",
    "from nltk import stem, pos_tag #词干提取，词性标注\n",
    "import nltk\n",
    "from nltk.tokenize import sent_tokenize #语句分割\n",
    "import string"
   ]
  },
  {
   "cell_type": "code",
   "execution_count": 3,
   "id": "43e1057c",
   "metadata": {},
   "outputs": [
    {
     "data": {
      "text/plain": [
       "'In 1949, the People\\'s Liberation Army made a concerted effort to safeguard historical buildings during the battle for Shanghai\\'s liberation, and they continue to be treasured today, Xing Yi reports.\\n\\nThe opening of the campus of the East China University of Political Science and Law on Sept 23 marked the latest development in the \"River and Creek\" project which the Shanghai municipal government launched to provide more waterfront relaxation space for its citizens.\\n\\nThe campus comprises 27 heritage buildings, which have recently undergone renovations, and is where St John\\'s University, founded by American missionaries in 1879, used to be situated. It is one of the country\\'s major historical and cultural sites protected at the national level.\\n\\nIn terms of the number of historical buildings, as a Shanghai heritage site, the campus is second only to the Bund.\\nWhile many people flock to the Suzhou Creek area to enjoy a leisurely stroll and take in the views of these charming old buildings over the weekends, few know that these structures would not still be around today if not for the sacrifices made by the People\\'s Liberation Army more than 70 years ago.\\n\\nThe late PLA general, Su Yu, was, at the time, the deputy commander-in-chief of the army that fought against the Kuomintang in Shanghai in May 1949.\\n\\nIn his memoir, Su said the primary goal of the people\\'s army was to take Shanghai with minimal damage to the city and minimal civilian casualties.\\n\\n\"To avoid widespread destruction of the city, we ordered the troops to minimize the use of heavy artillery, especially when the battle entered the downtown area,\" Su wrote.\\n\\nIn his account, the PLA troops launched the main attack on Wusongkou, the port in the northern suburb where the Kuomintang was defending the entry point to the Yangtze River.\\n\\n\"It was a hard war, and we made great sacrifices. But we are the people\\'s army, and to keep the people\\'s city intact, to protect people\\'s lives and fortunes was our price to pay and it was worth it,\" he wrote.\\n\\nThe fierce battle in the suburbs lasted 12 days, from May 12 to 24, and the battle in the downtown area only took three days. The battle for Shanghai ended on May 27.\\nWang Xiangtao, author of 1949: The Liberation of Shanghai in the Eyes of Westerners in China, wrote in his book about the protection of the Yangshupu Power Plant, an important facility run by US-owned Shanghai Power Co that provided nearly 80 percent of the city\\'s electricity supply.\\n\\n\"Long before the Communists came, the US marines were gone, and rumors were that the Kuomintang would destroy the power plant,\" wrote Wang, who based his writing on many memoirs and accounts by foreigners, including John Cabot, the then US consul general in Shanghai.\\n\\nBefore the Kuomintang army blew up the Jiangnan shipyard prior to retreating on May 22, Cabot had, on several occasions, tried to get assurance from the Nationalist general Tang Enbo, who was in command of Shanghai\\'s defense, that the Kuomintang would not damage the power plant.\\n\\nWhat Cabot did not know was that the CPC\\'s underground members in Shanghai had already been organizing the local populace to protect factories, banks, shops and other infrastructure facilities, including the Yangshupu Power Plant, which continued to operate until the end of 2010 and has itself become a popular site of industrial heritage along the Huangpu River.\\n\\nShi Jin\\'gen, an underground Party member of the former Shanghai Power Co, said in a 2019 documentary produced by Shanghai Television Station that a team of Kuomintang soldiers wanted to set up machine guns on the roof of the plant on May 23.\\n\\n\"The underground Party member Li Zhigeng went to negotiate with the soldiers, telling them that it might cause the boilers to explode, and they were scared off,\" Shi recalls.\\nBut many high buildings along the Suzhou Creek, including the Broadway Mansion, the General Post Office Building and the Embankment Building, were occupied by Kuomintang soldiers and used as assault points against the PLA.\\n\\nAmerican editor Bill Powell, who ran the English-language magazine China Weekly Review at the time, was trapped inside the Embankment Building with more than 300 foreigners. The building had become a holdout for the Kuomintang army.\\n\\nThe standoff at Suzhou Creek lasted almost two days. Despite heavy casualties, the PLA on the southern bank waited patiently and chose to encircle the line of defense instead of blasting their way through. No foreign residents of the Embankment Building were hurt. At this time, Powell prepared an editorial that read: \"We welcome the change that has come about and hope that the arrival of the People\\'s Liberation Army will mark the beginning of a new era－an era in which the people of China can now begin to enjoy the benefits.\"\\n\\nWang says he was most impressed by accounts of how the PLA soldiers strictly followed orders to minimize destruction of infrastructure when doing researching for his book.\\n\\n\"Thanks to the sacrifices made by the thousands of PLA soldiers who died in the battle, we can appreciate the historical architecture of the city now. They have saved the city\\'s historical memories with their lives,\" he says.\\nChen Yi, the commander-in-chief of the Shanghai battle who later became the first mayor of Shanghai of the People\\'s Republic of China, once compared the fight to \"beating a rat in a china shop\".\\n\\nWith the help of underground Party members, supporting citizens and city officials, the PLA managed to \"catch the \\'rat\\' without breaking the \\'ceramics\\'\", he says.\\n\\nOn the morning of May 26, 1949, Chen briefly camped at the campus of the St John\\'s University before heading for the Ruijin Hotel later that day to prepare for the official takeover of the city.\\n\\nAn exhibition in the Ge Zhi Hall of the campus on Sept 17 recounted the story. Zhu Min, director of the university archives, says the building where Chen stayed was then regarded as the \"No 1 camp site of PLA\\'s Shanghai liberation\".\\n\\nZhu says that one of the main reasons for choosing the campus was its convenient location－it is situated next to the Suzhou Creek and near the former railway station in Zhongshan Park.\\n\\n\"The other reason might be the mature underground Party organization at the university. St John\\'s University was one of the bastions of the student movement during the war for liberation,\" she says.\\n\\nThe exhibition also tells the story of Cao Manzhi, a PLA official who started teaching at the East China University of Political Science and Law in 1952 before becoming the vice-dean in 1979.\\nCao drafted the regulations for soldiers entering Shanghai, which included no arbitrary shootings, no entering of private properties, no disturbing of entertainment businesses, and the conduct of fair trade.\\n\\nWhen the PLA liberated the southern part of Shanghai, American journalist Harrison Forman went to Nanjing Road and saw PLA soldiers sleeping on the streets.\\n\\n\"These youngsters must be dead tired from marching and fighting for days and nights. The rattle of gunfire doesn\\'t disturb them. They are sound asleep,\" he wrote in his notebook. \"All afternoon they slept soundly along Nanking Road on the sidewalks, a most incredible thing for a conquering army to do.\"\\n\\n'"
      ]
     },
     "execution_count": 3,
     "metadata": {},
     "output_type": "execute_result"
    }
   ],
   "source": [
    "text = open(\"/Users/leonwong/Desktop/WDS/code/text_similarity/dataset/file.txt\", 'r').read()\n",
    "text"
   ]
  },
  {
   "cell_type": "code",
   "execution_count": 17,
   "id": "98434473",
   "metadata": {},
   "outputs": [],
   "source": [
    "#分词\n",
    "words = word_tokenize(text)"
   ]
  },
  {
   "cell_type": "code",
   "execution_count": 18,
   "id": "ddbb10cd",
   "metadata": {},
   "outputs": [
    {
     "name": "stdout",
     "output_type": "stream",
     "text": [
      "['In', '1949', ',', 'the', 'People', \"'s\", 'Liberation', 'Army', 'made', 'a', 'concerted', 'effort', 'to', 'safeguard', 'historical', 'buildings', 'during', 'the', 'battle', 'for', 'Shanghai', \"'s\", 'liberation', ',', 'and', 'they', 'continue', 'to', 'be', 'treasured']\n"
     ]
    }
   ],
   "source": [
    "print(words[0:30])"
   ]
  },
  {
   "cell_type": "code",
   "execution_count": 19,
   "id": "4c1f1826",
   "metadata": {},
   "outputs": [],
   "source": [
    "#纠错\n",
    "spell = Speller(lang='en')\n",
    "\n",
    "def correct_sentence(words):\n",
    "    corrected_sentence = \"\" #存储正确的句子\n",
    "    corrected_word_list = [] #存储正确的单词\n",
    "    for wd in words:\n",
    "        if wd not in string.punctuation: #不是标点符后时\n",
    "            wd_c = spell(wd)\n",
    "            \n",
    "            if wd_c != wd:\n",
    "                print(wd+\" has been corrected to: \"+wd_c)\n",
    "                corrected_sentence = corrected_sentence+\" \"+wd_c\n",
    "                corrected_word_list.append(wd_c)\n",
    "                \n",
    "            else:\n",
    "                corrected_sentence = corrected_sentence +\" \"+wd\n",
    "                corrected_word_list.append(wd)\n",
    "        else:#是标点符号不用处理直接加上去\n",
    "            corrected_sentence = corrected_sentence + wd\n",
    "            corrected_word_list.append(wd)\n",
    "    \n",
    "    return corrected_sentence, corrected_word_list"
   ]
  },
  {
   "cell_type": "code",
   "execution_count": 20,
   "id": "009e6f15",
   "metadata": {},
   "outputs": [],
   "source": [
    "#corrected_sentence, corrected_word_list = correct_sentence(words)"
   ]
  },
  {
   "cell_type": "code",
   "execution_count": 21,
   "id": "f7505328",
   "metadata": {},
   "outputs": [],
   "source": [
    "#词性标注\n",
    "#print(pos_tag(corrected_word_list))"
   ]
  },
  {
   "cell_type": "code",
   "execution_count": 22,
   "id": "c04d74a3",
   "metadata": {},
   "outputs": [],
   "source": [
    "#过滤停用词\n",
    "stop_words = stopwords.words('english')\n",
    "\n",
    "def remove_stop_words(word_list):\n",
    "    corrected_word_list_without_stopwords = []\n",
    "    for wd in word_list:\n",
    "        if wd not in stop_words:\n",
    "            corrected_word_list_without_stopwords.append(wd)\n",
    "        return corrected_word_list_without_stopwords\n",
    "\n",
    "    \n",
    "corrected_word_list_without_stopwords = remove_stop_words(corrected_word_list)\n"
   ]
  },
  {
   "cell_type": "code",
   "execution_count": 26,
   "id": "487e85bb",
   "metadata": {
    "scrolled": true
   },
   "outputs": [
    {
     "data": {
      "text/plain": [
       "['in']"
      ]
     },
     "execution_count": 26,
     "metadata": {},
     "output_type": "execute_result"
    }
   ],
   "source": [
    "#词干提取\n",
    "stemmer = stem.PorterStemmer()\n",
    "\n",
    "def get_stems(word_list):\n",
    "    corrected_word_list_without_stopwords_stemmed =[]\n",
    "    for wd in word_list:\n",
    "        corrected_word_list_without_stopwords_stemmed.append(stemmer.stem(wd))\n",
    "    return corrected_word_list_without_stopwords_stemmed\n",
    "\n",
    "corrected_word_list_without_stopwords_stemmed = get_stems(corrected_word_list_without_stopwords)\n",
    "corrected_word_list_without_stopwords_stemmed[:20]"
   ]
  },
  {
   "cell_type": "code",
   "execution_count": 28,
   "id": "94797e78",
   "metadata": {},
   "outputs": [
    {
     "data": {
      "text/plain": [
       "['In']"
      ]
     },
     "execution_count": 28,
     "metadata": {},
     "output_type": "execute_result"
    }
   ],
   "source": [
    "#词义消歧\n",
    "lemmatizer = WordNetLemmatizer()\n",
    "\n",
    "def get_lemma(word_list):\n",
    "    corrected_word_list_without_stopwords_lemmatized = []\n",
    "    for wd in word_list:\n",
    "        corrected_word_list_without_stopwords_lemmatized.append(lemmatizer.lemmatize(wd))\n",
    "    return corrected_word_list_without_stopwords_lemmatized\n",
    "\n",
    "corrected_word_list_without_stopwords_lemmatized = get_lemma(corrected_word_list_without_stopwords)\n",
    "corrected_word_list_without_stopwords_lemmatized[:20]"
   ]
  },
  {
   "cell_type": "code",
   "execution_count": 32,
   "id": "40166273",
   "metadata": {},
   "outputs": [
    {
     "data": {
      "text/plain": [
       "[\" In 1949, the People 's Liberation Army made a concerted effort to safeguard historical buildings during the battle for Shanghai 's liberation, and they continue to be treasure today, King Yi reports.\",\n",
       " \"The opening of the campus of the East China University of Political Science and Law on Sept 23 marked the latest development in the `` River and Creek '' project which the Shanghai municipal government launched to provide more waterfront relaxation space for its citizens.\",\n",
       " \"The campus comprises 27 heritage buildings, which have recently undergone renovations, and is where St John 's University, founded by American missionaries in 1879, used to be situated.\",\n",
       " \"It is one of the country 's major historical and cultural sites protected at the national level.\",\n",
       " 'In terms of the number of historical buildings, as a Shanghai heritage site, the campus is second only to the Bund.',\n",
       " \"While many people flock to the Suzhou Creek area to enjoy a leisure stroll and take in the views of these charming old buildings over the weekends, few know that these structures would not still be around today if not for the sacrifices made by the People 's Liberation Army more than 70 years ago.\",\n",
       " 'The late LA general, Su Yu, was, at the time, the deputy commander-in-chief of the army that fought against the Kuomintang in Shanghai in May 1949.',\n",
       " \"In his memoir, Su said the primary goal of the people 's army was to take Shanghai with minimal damage to the city and minimal civilian casualties.\",\n",
       " \"`` To avoid widespread destruction of the city, we ordered the troops to minimize the use of heavy artillery, especially when the battle entered the downtown area, '' Su wrote.\",\n",
       " 'In his account, the LA troops launched the main attack on Wusongkou, the port in the northern suburb where the Kuomintang was defending the entry point to the Yangtze River.',\n",
       " '`` It was a hard war, and we made great sacrifices.',\n",
       " \"But we are the people 's army, and to keep the people 's city intact, to protect people 's lives and fortunes was our price to pay and it was worth it, '' he wrote.\",\n",
       " 'The fierce battle in the suburbs lasted 12 days, from May 12 to 24, and the battle in the downtown area only took three days.',\n",
       " 'The battle for Shanghai ended on May 27.',\n",
       " \"Wang Xiangtao, author of 1949: The Liberation of Shanghai in the Eyes of Westerners in China, wrote in his book about the protection of the Yangshupu Power Plant, an important facility run by Up-owned Shanghai Power Co that provided nearly 80 percent of the city 's electricity supply.\",\n",
       " \"`` Long before the Communists came, the Up marines were gone, and rumors were that the Kuomintang would destroy the power plant, '' wrote Wang, who based his writing on many memoirs and accounts by foreigners, including John Oabot, the then Up consul general in Shanghai.\",\n",
       " \"Before the Kuomintang army blew up the Jiangnan shipyard prior to retreating on May 22, Oabot had, on several occasions, tried to get assurance from the Nationalist general Tang Enzo, who was in command of Shanghai 's defense, that the Kuomintang would not damage the power plant.\",\n",
       " \"What Oabot did not know was that the PC 's underground members in Shanghai had already been organizing the local populace to protect factories, banks, shops and other infrastructure facilities, including the Yangshupu Power Plant, which continued to operate until the end of 2010 and has itself become a popular site of industrial heritage along the Huang River.\",\n",
       " \"Shi Jin'gen, an underground Party member of the former Shanghai Power Co, said in a 2019 documentary produced by Shanghai Television Station that a team of Kuomintang soldiers wanted to set up machine guns on the roof of the plant on May 23.\",\n",
       " \"`` The underground Party member Li Zheng went to negotiate with the soldiers, telling them that it might cause the boilers to explode, and they were scared off, '' Shi recalls.\",\n",
       " 'But many high buildings along the Suzhou Creek, including the Broadway Mansion, the General Post Office Building and the Embankment Building, were occupied by Kuomintang soldiers and used as assault points against the LA.',\n",
       " 'American editor Bill Powell, who ran the English-language magazine China Weekly Review at the time, was trapped inside the Embankment Building with more than 300 foreigners.',\n",
       " 'The building had become a handout for the Kuomintang army.',\n",
       " 'The standoff at Suzhou Creek lasted almost two days.',\n",
       " 'Despite heavy casualties, the LA on the southern bank waited patiently and chose to encircle the line of defense instead of blasting their way through.',\n",
       " 'No foreign residents of the Embankment Building were hurt.',\n",
       " \"At this time, Powell prepared an editorial that read: `` We welcome the change that has come about and hope that the arrival of the People 's Liberation Army will mark the beginning of a new era－an era in which the people of China can now begin to enjoy the benefits. ''\",\n",
       " 'Wang says he was most impressed by accounts of how the LA soldiers strictly followed orders to minimize destruction of infrastructure when doing researching for his book.',\n",
       " '`` Thanks to the sacrifices made by the thousands of LA soldiers who died in the battle, we can appreciate the historical architecture of the city now.',\n",
       " \"They have saved the city 's historical memories with their lives, '' he says.\",\n",
       " \"Chen Yi, the commander-in-chief of the Shanghai battle who later became the first mayor of Shanghai of the People 's Republic of China, once compared the fight to `` beating a rat in a china shop ''.\",\n",
       " \"With the help of underground Party members, supporting citizens and city officials, the LA managed to `` catch the 'rat' without breaking the 'ceramics' '', he says.\",\n",
       " \"On the morning of May 26, 1949, Chen briefly camped at the campus of the St John 's University before heading for the Rubin Hotel later that day to prepare for the official takeover of the city.\",\n",
       " 'An exhibition in the Ge Zhi Hall of the campus on Sept 17 recounted the story.',\n",
       " \"Zhu Min, director of the university archives, says the building where Chen stayed was then regarded as the `` No 1 camp site of LA 's Shanghai liberation ''.\",\n",
       " 'Zhu says that one of the main reasons for choosing the campus was its convenient location－it is situated next to the Suzhou Creek and near the former railway station in Zhongshan Park.',\n",
       " '`` The other reason might be the mature underground Party organization at the university.',\n",
       " \"St John 's University was one of the bastions of the student movement during the war for liberation, '' she says.\",\n",
       " 'The exhibition also tells the story of Cao Mani, a LA official who started teaching at the East China University of Political Science and Law in 1952 before becoming the vice-dean in 1979.',\n",
       " 'Cao drafted the regulations for soldiers entering Shanghai, which included no arbitrary shootings, no entering of private properties, no disturbing of entertainment businesses, and the conduct of fair trade.',\n",
       " 'When the LA liberated the southern part of Shanghai, American journalist Harrison Format went to Ranking Road and saw LA soldiers sleeping on the streets.',\n",
       " '`` These youngsters must be dead tired from marching and fighting for days and nights.',\n",
       " \"The rattle of gunfire does n't disturb them.\",\n",
       " \"They are sound asleep, '' he wrote in his notebook.\",\n",
       " \"`` All afternoon they slept soundly along Ranking Road on the sidewalks, a most incredible thing for a conquering army to do. ''\"]"
      ]
     },
     "execution_count": 32,
     "metadata": {},
     "output_type": "execute_result"
    }
   ],
   "source": [
    "#语句分割\n",
    "sent_tokenize(corrected_sentence)"
   ]
  },
  {
   "cell_type": "code",
   "execution_count": null,
   "id": "db7b0de3",
   "metadata": {},
   "outputs": [],
   "source": []
  }
 ],
 "metadata": {
  "kernelspec": {
   "display_name": "Python 3 (ipykernel)",
   "language": "python",
   "name": "python3"
  },
  "language_info": {
   "codemirror_mode": {
    "name": "ipython",
    "version": 3
   },
   "file_extension": ".py",
   "mimetype": "text/x-python",
   "name": "python",
   "nbconvert_exporter": "python",
   "pygments_lexer": "ipython3",
   "version": "3.7.11"
  }
 },
 "nbformat": 4,
 "nbformat_minor": 5
}
