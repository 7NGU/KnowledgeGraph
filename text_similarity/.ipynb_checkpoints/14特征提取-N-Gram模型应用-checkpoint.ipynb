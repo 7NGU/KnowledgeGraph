{
 "cells": [
  {
   "cell_type": "code",
   "execution_count": 1,
   "id": "2cb8b0e3",
   "metadata": {},
   "outputs": [],
   "source": [
    "import re"
   ]
  },
  {
   "cell_type": "code",
   "execution_count": 2,
   "id": "7ea7634e",
   "metadata": {},
   "outputs": [],
   "source": [
    "#自定义函数法\n",
    "\n",
    "def n_gram_extractor(sentence, n):\n",
    "    \n",
    "    #清洗文本分割Token\n",
    "    tokens = re.sub(r'([^\\s\\w]|_)+', ' ', sentence).split()\n",
    "    \n",
    "    #循环遍历Token,每次取n个连续的Token,获得N-Gram\n",
    "    for i in range(len(tokens)-n+1):\n",
    "        print(tokens[i: i+n])"
   ]
  },
  {
   "cell_type": "code",
   "execution_count": 4,
   "id": "a6e1b8ba",
   "metadata": {},
   "outputs": [
    {
     "name": "stdout",
     "output_type": "stream",
     "text": [
      "['Tomorrow', 'is', 'another']\n",
      "['is', 'another', 'day']\n",
      "['another', 'day', 'priscillachan728']\n",
      "['day', 'priscillachan728', 'is']\n",
      "['priscillachan728', 'is', 'one']\n",
      "['is', 'one', 'of']\n",
      "['one', 'of', 'my']\n",
      "['of', 'my', 'most']\n",
      "['my', 'most', 'favorite']\n",
      "['most', 'favorite', 'song']\n"
     ]
    }
   ],
   "source": [
    "n_gram_extractor('Tomorrow is another day@priscillachan728 is one of my most favorite song.', 3)"
   ]
  },
  {
   "cell_type": "code",
   "execution_count": 5,
   "id": "73d35522",
   "metadata": {},
   "outputs": [],
   "source": [
    "#直接使用NLTK中的ngrams进行提取\n",
    "from nltk import data\n",
    "data.path.append(\"/Users/leonwong/nltk_data\")\n",
    "\n",
    "from nltk import ngrams"
   ]
  },
  {
   "cell_type": "code",
   "execution_count": 6,
   "id": "303e46da",
   "metadata": {},
   "outputs": [
    {
     "data": {
      "text/plain": [
       "[('Tomorrow', 'is'),\n",
       " ('is', 'another'),\n",
       " ('another', 'day@priscillachan728'),\n",
       " ('day@priscillachan728', 'is'),\n",
       " ('is', 'one'),\n",
       " ('one', 'of'),\n",
       " ('of', 'my'),\n",
       " ('my', 'most'),\n",
       " ('most', 'favorite'),\n",
       " ('favorite', 'song.')]"
      ]
     },
     "execution_count": 6,
     "metadata": {},
     "output_type": "execute_result"
    }
   ],
   "source": [
    "list(ngrams(\"Tomorrow is another day@priscillachan728 is one of my most favorite song.\".split(), 2))"
   ]
  },
  {
   "cell_type": "code",
   "execution_count": 8,
   "id": "5bf05786",
   "metadata": {},
   "outputs": [],
   "source": [
    "#利用TextBlob进行提取\n",
    "from textblob import TextBlob"
   ]
  },
  {
   "cell_type": "code",
   "execution_count": 9,
   "id": "2b76238c",
   "metadata": {},
   "outputs": [
    {
     "data": {
      "text/plain": [
       "[WordList(['Tomorrow', 'is']),\n",
       " WordList(['is', 'another']),\n",
       " WordList(['another', 'day']),\n",
       " WordList(['day', 'priscillachan728']),\n",
       " WordList(['priscillachan728', 'is']),\n",
       " WordList(['is', 'one']),\n",
       " WordList(['one', 'of']),\n",
       " WordList(['of', 'my']),\n",
       " WordList(['my', 'most']),\n",
       " WordList(['most', 'favorite']),\n",
       " WordList(['favorite', 'song'])]"
      ]
     },
     "execution_count": 9,
     "metadata": {},
     "output_type": "execute_result"
    }
   ],
   "source": [
    "blob = TextBlob(\"Tomorrow is another day@priscillachan728 is one of my most favorite song.\")\n",
    "blob.ngrams(n=2)"
   ]
  },
  {
   "cell_type": "code",
   "execution_count": null,
   "id": "74a6b1a1",
   "metadata": {},
   "outputs": [],
   "source": []
  }
 ],
 "metadata": {
  "kernelspec": {
   "display_name": "Python 3 (ipykernel)",
   "language": "python",
   "name": "python3"
  },
  "language_info": {
   "codemirror_mode": {
    "name": "ipython",
    "version": 3
   },
   "file_extension": ".py",
   "mimetype": "text/x-python",
   "name": "python",
   "nbconvert_exporter": "python",
   "pygments_lexer": "ipython3",
   "version": "3.7.11"
  }
 },
 "nbformat": 4,
 "nbformat_minor": 5
}
