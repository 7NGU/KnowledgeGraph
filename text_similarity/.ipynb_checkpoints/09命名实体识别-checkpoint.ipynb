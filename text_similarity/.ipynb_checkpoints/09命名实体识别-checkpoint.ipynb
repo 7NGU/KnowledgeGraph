{
 "cells": [
  {
   "cell_type": "code",
   "execution_count": 1,
   "id": "a552adcd",
   "metadata": {},
   "outputs": [],
   "source": [
    "#Named Entity Recognition 人名、地名等特殊实体\n",
    "#Chunking 是把单词组合成 分块（chunk）的过程，可以用来查找名词组和动词组，也可以用来分割句子"
   ]
  },
  {
   "cell_type": "code",
   "execution_count": 15,
   "id": "6ef1d309",
   "metadata": {},
   "outputs": [],
   "source": [
    "from nltk import data\n",
    "data.path.append('/Users/leonwong/nltk_data')\n",
    "\n",
    "from nltk import pos_tag #词性标注\n",
    "from nltk import ne_chunk #分块\n",
    "from nltk import word_tokenize #分词\n",
    "import numpy"
   ]
  },
  {
   "cell_type": "code",
   "execution_count": 16,
   "id": "c8182191",
   "metadata": {},
   "outputs": [
    {
     "data": {
      "text/plain": [
       "\"Leon's Adventures in Wonderland is a popular novel in China.\""
      ]
     },
     "execution_count": 16,
     "metadata": {},
     "output_type": "execute_result"
    }
   ],
   "source": [
    "sentence = \"Leon's Adventures in Wonderland is a popular novel in China.\"\n",
    "sentence"
   ]
  },
  {
   "cell_type": "code",
   "execution_count": 19,
   "id": "3a6de337",
   "metadata": {},
   "outputs": [
    {
     "ename": "NameError",
     "evalue": "name 'pos' is not defined",
     "output_type": "error",
     "traceback": [
      "\u001b[0;31m---------------------------------------------------------------------------\u001b[0m",
      "\u001b[0;31mNameError\u001b[0m                                 Traceback (most recent call last)",
      "\u001b[0;32m/var/folders/4f/47jz9_7n12b88p0jlwrxq76h0000gn/T/ipykernel_2977/3561791528.py\u001b[0m in \u001b[0;36m<module>\u001b[0;34m\u001b[0m\n\u001b[1;32m      7\u001b[0m     \u001b[0;32mreturn\u001b[0m \u001b[0mwords\u001b[0m\u001b[0;34m\u001b[0m\u001b[0;34m\u001b[0m\u001b[0m\n\u001b[1;32m      8\u001b[0m \u001b[0;34m\u001b[0m\u001b[0m\n\u001b[0;32m----> 9\u001b[0;31m \u001b[0mget_ner\u001b[0m\u001b[0;34m(\u001b[0m\u001b[0msentence\u001b[0m\u001b[0;34m)\u001b[0m\u001b[0;34m\u001b[0m\u001b[0;34m\u001b[0m\u001b[0m\n\u001b[0m",
      "\u001b[0;32m/var/folders/4f/47jz9_7n12b88p0jlwrxq76h0000gn/T/ipykernel_2977/3561791528.py\u001b[0m in \u001b[0;36mget_ner\u001b[0;34m(text)\u001b[0m\n\u001b[1;32m      2\u001b[0m     \u001b[0mwords\u001b[0m \u001b[0;34m=\u001b[0m \u001b[0mword_tokenize\u001b[0m\u001b[0;34m(\u001b[0m\u001b[0mtext\u001b[0m\u001b[0;34m)\u001b[0m\u001b[0;34m\u001b[0m\u001b[0;34m\u001b[0m\u001b[0m\n\u001b[1;32m      3\u001b[0m    \u001b[0;31m# pos = pos_tag(words)\u001b[0m\u001b[0;34m\u001b[0m\u001b[0;34m\u001b[0m\u001b[0;34m\u001b[0m\u001b[0m\n\u001b[0;32m----> 4\u001b[0;31m     \u001b[0mi\u001b[0m \u001b[0;34m=\u001b[0m \u001b[0mne_chunk\u001b[0m\u001b[0;34m(\u001b[0m\u001b[0mpos\u001b[0m\u001b[0;34m,\u001b[0m \u001b[0mbinary\u001b[0m\u001b[0;34m=\u001b[0m\u001b[0;32mTrue\u001b[0m\u001b[0;34m)\u001b[0m\u001b[0;34m\u001b[0m\u001b[0;34m\u001b[0m\u001b[0m\n\u001b[0m\u001b[1;32m      5\u001b[0m \u001b[0;31m#     i = ne_chunk(pos_tag(word_tokenize(text)), binary=True)\u001b[0m\u001b[0;34m\u001b[0m\u001b[0;34m\u001b[0m\u001b[0;34m\u001b[0m\u001b[0m\n\u001b[1;32m      6\u001b[0m    \u001b[0;31m# return [a for a in i if len(a)==1]\u001b[0m\u001b[0;34m\u001b[0m\u001b[0;34m\u001b[0m\u001b[0;34m\u001b[0m\u001b[0m\n",
      "\u001b[0;31mNameError\u001b[0m: name 'pos' is not defined"
     ]
    }
   ],
   "source": [
    "def get_ner(text):\n",
    "    words = word_tokenize(text)\n",
    "   # pos = pos_tag(words)\n",
    "   # i = ne_chunk(pos, binary=True)\n",
    "#     i = ne_chunk(pos_tag(word_tokenize(text)), binary=True)\n",
    "   # return [a for a in i if len(a)==1]\n",
    "    return words\n",
    "\n",
    "get_ner(sentence)"
   ]
  },
  {
   "cell_type": "code",
   "execution_count": null,
   "id": "3d516e42",
   "metadata": {},
   "outputs": [],
   "source": []
  },
  {
   "cell_type": "code",
   "execution_count": null,
   "id": "4c29eebd",
   "metadata": {},
   "outputs": [],
   "source": []
  }
 ],
 "metadata": {
  "kernelspec": {
   "display_name": "Python 3 (ipykernel)",
   "language": "python",
   "name": "python3"
  },
  "language_info": {
   "codemirror_mode": {
    "name": "ipython",
    "version": 3
   },
   "file_extension": ".py",
   "mimetype": "text/x-python",
   "name": "python",
   "nbconvert_exporter": "python",
   "pygments_lexer": "ipython3",
   "version": "3.7.11"
  }
 },
 "nbformat": 4,
 "nbformat_minor": 5
}
