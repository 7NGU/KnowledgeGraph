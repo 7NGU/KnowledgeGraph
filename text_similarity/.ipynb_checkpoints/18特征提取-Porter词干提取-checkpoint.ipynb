{
 "cells": [
  {
   "cell_type": "code",
   "execution_count": 3,
   "id": "332dfc2c",
   "metadata": {},
   "outputs": [],
   "source": [
    "#最常用，基本原理是删除和替换英语中众所周知的单词后缀、前缀和复数\n",
    "from nltk.stem.porter import *"
   ]
  },
  {
   "cell_type": "code",
   "execution_count": 7,
   "id": "2c2e7f11",
   "metadata": {},
   "outputs": [],
   "source": [
    "sentence = \"Before eating it would be nice to sanitize your hands with a sanitizer\""
   ]
  },
  {
   "cell_type": "code",
   "execution_count": 8,
   "id": "946389ee",
   "metadata": {},
   "outputs": [],
   "source": [
    "def get_stems(text):\n",
    "    ps_stemmer = PorterStemmer()\n",
    "    return ' '.join([ps_stemmer.stem(wd) for wd in text.split()])"
   ]
  },
  {
   "cell_type": "code",
   "execution_count": 9,
   "id": "80254ade",
   "metadata": {},
   "outputs": [
    {
     "data": {
      "text/plain": [
       "'befor eat it would be nice to sanit your hand with a sanit'"
      ]
     },
     "execution_count": 9,
     "metadata": {},
     "output_type": "execute_result"
    }
   ],
   "source": [
    "get_stems(sentence)"
   ]
  },
  {
   "cell_type": "code",
   "execution_count": null,
   "id": "1254aa9c",
   "metadata": {},
   "outputs": [],
   "source": []
  }
 ],
 "metadata": {
  "kernelspec": {
   "display_name": "Python 3 (ipykernel)",
   "language": "python",
   "name": "python3"
  },
  "language_info": {
   "codemirror_mode": {
    "name": "ipython",
    "version": 3
   },
   "file_extension": ".py",
   "mimetype": "text/x-python",
   "name": "python",
   "nbconvert_exporter": "python",
   "pygments_lexer": "ipython3",
   "version": "3.7.11"
  }
 },
 "nbformat": 4,
 "nbformat_minor": 5
}
