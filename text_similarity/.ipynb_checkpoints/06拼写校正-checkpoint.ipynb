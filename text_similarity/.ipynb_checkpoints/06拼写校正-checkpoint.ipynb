{
 "cells": [
  {
   "cell_type": "code",
   "execution_count": 1,
   "id": "8928d01b",
   "metadata": {},
   "outputs": [],
   "source": [
    "#Two steps \n",
    "#1-识别拼写错误的单词，可以通过字典查找实现\n",
    "#2-替换该词，有很多算法，其中之一是最小编辑距离算法，它为拼写错误的单词选择最近的正确拼写单词\n",
    "#使用python自动纠正库（autocorrect），提供spell方法，接受一个单词作为输入，并返回单词的正确拼写"
   ]
  },
  {
   "cell_type": "code",
   "execution_count": 3,
   "id": "d6429710",
   "metadata": {},
   "outputs": [],
   "source": [
    "from nltk import data, word_tokenize\n",
    "data.path.append('/Users/leonwong/nltk_data')\n",
    "\n",
    "from autocorrect import Speller"
   ]
  },
  {
   "cell_type": "code",
   "execution_count": 4,
   "id": "b18c2745",
   "metadata": {},
   "outputs": [
    {
     "data": {
      "text/plain": [
       "'Natural'"
      ]
     },
     "execution_count": 4,
     "metadata": {},
     "output_type": "execute_result"
    }
   ],
   "source": [
    "spell = Speller(lang = 'en')\n",
    "spell('Natureal')"
   ]
  },
  {
   "cell_type": "code",
   "execution_count": 6,
   "id": "d30bb2c6",
   "metadata": {},
   "outputs": [
    {
     "data": {
      "text/plain": [
       "'Tomorrow is another dy'"
      ]
     },
     "execution_count": 6,
     "metadata": {},
     "output_type": "execute_result"
    }
   ],
   "source": [
    "spell(\"Tomorow is anther daey\")"
   ]
  },
  {
   "cell_type": "code",
   "execution_count": null,
   "id": "2994a88e",
   "metadata": {},
   "outputs": [],
   "source": []
  }
 ],
 "metadata": {
  "kernelspec": {
   "display_name": "Python 3 (ipykernel)",
   "language": "python",
   "name": "python3"
  },
  "language_info": {
   "codemirror_mode": {
    "name": "ipython",
    "version": 3
   },
   "file_extension": ".py",
   "mimetype": "text/x-python",
   "name": "python",
   "nbconvert_exporter": "python",
   "pygments_lexer": "ipython3",
   "version": "3.7.11"
  }
 },
 "nbformat": 4,
 "nbformat_minor": 5
}
