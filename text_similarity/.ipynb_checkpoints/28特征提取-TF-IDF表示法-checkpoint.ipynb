{
 "cells": [
  {
   "cell_type": "code",
   "execution_count": 1,
   "id": "b9f7ac35",
   "metadata": {},
   "outputs": [],
   "source": [
    "from sklearn.feature_extraction.text import TfidfVectorizer"
   ]
  },
  {
   "cell_type": "code",
   "execution_count": 2,
   "id": "ae888aa0",
   "metadata": {},
   "outputs": [],
   "source": [
    "def get_tf_idf_vectors(corpus):#获取向量矩阵\n",
    "    tfidf_model = TfidfVectorizer()\n",
    "    vector_list = tfidf_model.fit_transform(corpus).todense()\n",
    "    return vector_list"
   ]
  },
  {
   "cell_type": "code",
   "execution_count": 3,
   "id": "8a7a5931",
   "metadata": {},
   "outputs": [],
   "source": [
    "corpus = [\n",
    "    \"Data Science is an overlap between Arts and Science\",\n",
    "    \"Generally, Arts graduates are right-brained and Science graduates are left-brained\",\n",
    "    \"Excelling in both Arts and Science at a time becomes difficult\",\n",
    "    \"Natural Language Processing is a part of Data Science\"\n",
    "]"
   ]
  },
  {
   "cell_type": "code",
   "execution_count": 4,
   "id": "25f16841",
   "metadata": {},
   "outputs": [
    {
     "name": "stdout",
     "output_type": "stream",
     "text": [
      "[[0.40332811 0.25743911 0.         0.25743911 0.         0.\n",
      "  0.40332811 0.         0.         0.31798852 0.         0.\n",
      "  0.         0.         0.         0.31798852 0.         0.\n",
      "  0.         0.         0.40332811 0.         0.         0.\n",
      "  0.42094668 0.        ]\n",
      " [0.         0.159139   0.49864399 0.159139   0.         0.\n",
      "  0.         0.         0.49864399 0.         0.         0.\n",
      "  0.24932199 0.49864399 0.         0.         0.         0.24932199\n",
      "  0.         0.         0.         0.         0.         0.24932199\n",
      "  0.13010656 0.        ]\n",
      " [0.         0.22444946 0.         0.22444946 0.35164346 0.35164346\n",
      "  0.         0.35164346 0.         0.         0.35164346 0.35164346\n",
      "  0.         0.         0.35164346 0.         0.         0.\n",
      "  0.         0.         0.         0.         0.         0.\n",
      "  0.18350214 0.35164346]\n",
      " [0.         0.         0.         0.         0.         0.\n",
      "  0.         0.         0.         0.30887228 0.         0.\n",
      "  0.         0.         0.         0.30887228 0.39176533 0.\n",
      "  0.39176533 0.39176533 0.         0.39176533 0.39176533 0.\n",
      "  0.2044394  0.        ]]\n"
     ]
    }
   ],
   "source": [
    "vector_list = get_tf_idf_vectors(corpus)\n",
    "print(vector_list)"
   ]
  },
  {
   "cell_type": "code",
   "execution_count": 5,
   "id": "c69d6f00",
   "metadata": {},
   "outputs": [
    {
     "data": {
      "text/plain": [
       "(4, 26)"
      ]
     },
     "execution_count": 5,
     "metadata": {},
     "output_type": "execute_result"
    }
   ],
   "source": [
    "vector_list.shape"
   ]
  },
  {
   "cell_type": "code",
   "execution_count": 6,
   "id": "99525f06",
   "metadata": {},
   "outputs": [],
   "source": [
    "#有缺陷\n",
    "#词袋和TF-IDF结合，先用词袋模型筛选高热度词汇，再用TF-IDF计算权值，值越高说明区分效果越好\n",
    "\n",
    "corpus_cn = [\n",
    "    \"帮我 查下 明天 北京 天气 怎么样\",\n",
    "    \"帮我 查询 去 北京 的 机票\",\n",
    "    \"帮我 查看 到 广州 的 机票\",\n",
    "    \"帮我 搜索 广州 长隆 在哪\"\n",
    "]"
   ]
  },
  {
   "cell_type": "code",
   "execution_count": 8,
   "id": "29591a6c",
   "metadata": {},
   "outputs": [
    {
     "name": "stdout",
     "output_type": "stream",
     "text": [
      "词袋: ['到', '北京', '去', '在哪', '天气', '帮我', '广州', '怎么样', '搜索', '明天', '机票', '查下', '查看', '查询', '的', '长隆']\n",
      "\n",
      "\n",
      "语料库向量:\n",
      "[[0 1 0 0 1 1 0 1 0 1 0 1 0 0 0 0]\n",
      " [0 1 1 0 0 1 0 0 0 0 1 0 0 1 1 0]\n",
      " [1 0 0 0 0 1 1 0 0 0 1 0 1 0 1 0]\n",
      " [0 0 0 1 0 1 1 0 1 0 0 0 0 0 0 1]]\n",
      "\n",
      "\n",
      "'广州' 索引号: 6\n",
      "'北京' 索引号: 1\n"
     ]
    }
   ],
   "source": [
    "#将语料转换为词袋向量\n",
    "from sklearn.feature_extraction.text import CountVectorizer\n",
    "\n",
    "#声明一个向量化工具vectorizer\n",
    "vectoerizer = CountVectorizer(min_df=1, max_df=1.0, token_pattern='\\\\b\\\\w+\\\\b') #使CountVectorizer支持单字符的词\n",
    "\n",
    "#根据语料集统计（fit）词袋\n",
    "vectoerizer.fit(corpus_cn)\n",
    "\n",
    "#输出语料集的词袋信息\n",
    "bag_of_words = vectoerizer.get_feature_names()\n",
    "print(\"词袋:\", bag_of_words)\n",
    "\n",
    "#将语料集转化为词袋向量（transform）\n",
    "X = vectoerizer.transform(corpus_cn)\n",
    "print(\"\\n\")\n",
    "print(\"语料库向量:\")\n",
    "print(X.toarray())\n",
    "\n",
    "#查看每个词在词袋中的索引\n",
    "print(\"\\n\")\n",
    "print(\"'广州' 索引号: {}\".format(vectoerizer.vocabulary_.get('广州')))\n",
    "print(\"'北京' 索引号: {}\".format(vectoerizer.vocabulary_.get('北京')))"
   ]
  },
  {
   "cell_type": "code",
   "execution_count": 9,
   "id": "7290c37f",
   "metadata": {},
   "outputs": [
    {
     "name": "stdout",
     "output_type": "stream",
     "text": [
      "到\t1.916290731874155\n",
      "北京\t1.5108256237659907\n",
      "去\t1.916290731874155\n",
      "在哪\t1.916290731874155\n",
      "天气\t1.916290731874155\n",
      "帮我\t1.0\n",
      "广州\t1.5108256237659907\n",
      "怎么样\t1.916290731874155\n",
      "搜索\t1.916290731874155\n",
      "明天\t1.916290731874155\n",
      "机票\t1.5108256237659907\n",
      "查下\t1.916290731874155\n",
      "查看\t1.916290731874155\n",
      "查询\t1.916290731874155\n",
      "的\t1.5108256237659907\n",
      "长隆\t1.916290731874155\n",
      "\n",
      "\n",
      "语料库TF-IDF矩阵:\n",
      "[[0.         0.3563895  0.         0.         0.45203489 0.23589056\n",
      "  0.         0.45203489 0.         0.45203489 0.         0.45203489\n",
      "  0.         0.         0.         0.        ]\n",
      " [0.         0.38761905 0.49164562 0.         0.         0.25656108\n",
      "  0.         0.         0.         0.         0.38761905 0.\n",
      "  0.         0.49164562 0.38761905 0.        ]\n",
      " [0.49164562 0.         0.         0.         0.         0.25656108\n",
      "  0.38761905 0.         0.         0.         0.38761905 0.\n",
      "  0.49164562 0.         0.38761905 0.        ]\n",
      " [0.         0.         0.         0.50676543 0.         0.26445122\n",
      "  0.39953968 0.         0.50676543 0.         0.         0.\n",
      "  0.         0.         0.         0.50676543]]\n"
     ]
    }
   ],
   "source": [
    "#根据词袋向量统计TF-IDF\n",
    "from sklearn.feature_extraction.text import TfidfTransformer\n",
    "\n",
    "#声明一个TF-IDF转化器\n",
    "tfidf_transformer = TfidfTransformer()\n",
    "\n",
    "#根据语料集的词袋向量计算（fit）TF-IDF\n",
    "tfidf_transformer.fit(X.toarray())\n",
    "\n",
    "#输出TF-IDF信息\n",
    "for idx, word in enumerate(vectoerizer.get_feature_names()):\n",
    "    print(\"{}\\t{}\".format(word, tfidf_transformer.idf_[idx]))\n",
    "\n",
    "    \n",
    "#将语料集的词袋向量表示转换为TF-IDF向量表示\n",
    "tfidf = tfidf_transformer.transform(X)\n",
    "print(\"\\n\")\n",
    "print(\"语料库TF-IDF矩阵:\")\n",
    "print(tfidf.toarray())"
   ]
  },
  {
   "cell_type": "code",
   "execution_count": null,
   "id": "4390d7c7",
   "metadata": {},
   "outputs": [],
   "source": []
  }
 ],
 "metadata": {
  "kernelspec": {
   "display_name": "Python 3 (ipykernel)",
   "language": "python",
   "name": "python3"
  },
  "language_info": {
   "codemirror_mode": {
    "name": "ipython",
    "version": 3
   },
   "file_extension": ".py",
   "mimetype": "text/x-python",
   "name": "python",
   "nbconvert_exporter": "python",
   "pygments_lexer": "ipython3",
   "version": "3.7.11"
  }
 },
 "nbformat": 4,
 "nbformat_minor": 5
}
