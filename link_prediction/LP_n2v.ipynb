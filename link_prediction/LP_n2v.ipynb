{
 "cells": [
  {
   "cell_type": "code",
   "execution_count": 1,
   "id": "1fa5b097",
   "metadata": {},
   "outputs": [],
   "source": [
    "import networkx as nx\n",
    "from node2vec import Node2Vec\n",
    "from sklearn.metrics import roc_auc_score\n",
    "import matplotlib.pyplot as plt\n",
    "import numpy as np"
   ]
  },
  {
   "cell_type": "code",
   "execution_count": 2,
   "id": "8b46cc85",
   "metadata": {},
   "outputs": [],
   "source": [
    "node = []\n",
    "edge_train = []\n",
    "edge_test = []\n",
    "edge_exit = []\n",
    "count = 0\n",
    "with open('facebook_combined.txt', 'r') as f:\n",
    "    data = f.readlines()\n",
    "    for line in data:\n",
    "        line = tuple(line.replace('\\n', '').split(' '))\n",
    "        edge_exit.append(line)\n",
    "        \n",
    "        if line[0] not in node:\n",
    "            node.append(line[0])\n",
    "        \n",
    "        if line[1] not in node:\n",
    "            node.append(line[1])\n",
    "            \n",
    "        if(count%5 == 0):\n",
    "            edge_test.append(line)\n",
    "            count+=1\n",
    "        else:\n",
    "            edge_train.append(line)\n",
    "            count+=1"
   ]
  },
  {
   "cell_type": "code",
   "execution_count": 3,
   "id": "98faae53",
   "metadata": {},
   "outputs": [],
   "source": [
    "G = nx.DiGraph()\n",
    "G.add_nodes_from(node)\n",
    "G.add_edges_from(edge_train)"
   ]
  },
  {
   "cell_type": "code",
   "execution_count": 4,
   "id": "4e60ca17",
   "metadata": {},
   "outputs": [],
   "source": [
    "G_all = nx.DiGraph()\n",
    "G_all.add_nodes_from(node)\n",
    "G_all.add_edges_from(edge_exit)"
   ]
  },
  {
   "cell_type": "code",
   "execution_count": 5,
   "id": "da355532",
   "metadata": {},
   "outputs": [
    {
     "name": "stdout",
     "output_type": "stream",
     "text": [
      "70587\n",
      "17647\n",
      "16221248\n"
     ]
    }
   ],
   "source": [
    "edge_not_exit = list(nx.non_edges(G_all))\n",
    "\n",
    "print(len(edge_train))\n",
    "print(len(edge_test))\n",
    "print(len(edge_not_exit))"
   ]
  },
  {
   "cell_type": "code",
   "execution_count": 6,
   "id": "a51e68f5",
   "metadata": {},
   "outputs": [
    {
     "data": {
      "application/vnd.jupyter.widget-view+json": {
       "model_id": "f2f99ba646c44f49a093d0f01c00c922",
       "version_major": 2,
       "version_minor": 0
      },
      "text/plain": [
       "Computing transition probabilities:   0%|          | 0/4039 [00:00<?, ?it/s]"
      ]
     },
     "metadata": {},
     "output_type": "display_data"
    },
    {
     "name": "stderr",
     "output_type": "stream",
     "text": [
      "Generating walks (CPU: 2): 100%|██████████| 3/3 [00:01<00:00,  1.52it/s]\n",
      "Generating walks (CPU: 4): 100%|██████████| 2/2 [00:01<00:00,  1.61it/s]"
     ]
    }
   ],
   "source": [
    "node2vec = Node2Vec(G, dimensions = 128, walk_length = 80, num_walks = 10, p = 0.3, q = 0.7, workers = 4)"
   ]
  },
  {
   "cell_type": "code",
   "execution_count": 7,
   "id": "51a88a4a",
   "metadata": {},
   "outputs": [],
   "source": [
    "model = node2vec.fit()"
   ]
  },
  {
   "cell_type": "code",
   "execution_count": 18,
   "id": "7f83ff1c",
   "metadata": {},
   "outputs": [],
   "source": [
    "# len_not = len(edge_not_exit)\n",
    "# len_test = len(edge_test)\n",
    "# score_total = 0.0\n",
    "# times = 0.0\n",
    "# for i in range(len_test):\n",
    "#     sim_test = model.wv.similarity(edge_test[i][0], edge_test[i][1])\n",
    "#     j = 0\n",
    "#     while(j < len_not):\n",
    "#         sim_not = model.wv.similarity(edge_not_exit[j][0], edge_not_exit[j][1])\n",
    "#         times += 1.0\n",
    "#         j += 15000\n",
    "#         if(sim_test > sim_not):\n",
    "#             score_total += 1.0\n",
    "#         elif(sim_test == sim_not):\n",
    "#             score_total += 0.5\n",
    "#         else:\n",
    "#             score_total += 0.0\n",
    "            \n",
    "# #     for j in range(int(len_not/10000)):\n",
    "# #         sim_not = model.wv.similarity(edge_not_exit[j][0], edge_not_exit[j][1])\n",
    "# #         times += 1.0\n",
    "# #         if(sim_test > sim_not):\n",
    "# #             score_total += 1.0\n",
    "# #         elif(sim_test == sim_not):\n",
    "# #             score_total += 0.5\n",
    "# #         else:\n",
    "# #             score_total += 0.0\n",
    "\n",
    "# score = score_total/ times\n",
    "# print(score)"
   ]
  },
  {
   "cell_type": "code",
   "execution_count": 10,
   "id": "e9e69d74",
   "metadata": {},
   "outputs": [
    {
     "name": "stdout",
     "output_type": "stream",
     "text": [
      "[('115', 0.9935605525970459), ('116', 0.9932399988174438), ('20', 0.992276132106781), ('28', 0.991713285446167), ('44', 0.9912866950035095)]\n"
     ]
    },
    {
     "name": "stderr",
     "output_type": "stream",
     "text": [
      "\n",
      "\n",
      "\n"
     ]
    }
   ],
   "source": [
    "print(model.wv.most_similar('2', topn=5))"
   ]
  },
  {
   "cell_type": "code",
   "execution_count": 20,
   "id": "ee3b7755",
   "metadata": {},
   "outputs": [],
   "source": [
    "# print(model.wv.most_similar('2', topn=5))\n",
    "# print(model.wv.similarity('0', '1'))\n",
    "# print(model.wv.similarity(edge_test[0][0], edge_test[0][1]))"
   ]
  },
  {
   "cell_type": "code",
   "execution_count": 48,
   "id": "7711109a",
   "metadata": {},
   "outputs": [],
   "source": [
    "len_not = len(edge_not_exit)\n",
    "len_test = len(edge_test)\n",
    "y_true = np.array([])\n",
    "y_scores = np.array([])\n",
    "\n",
    "for i in range(len_test):\n",
    "    y_true = np.append(y_true, 1)\n",
    "    sim = model.wv.similarity(edge_test[i][0], edge_test[i][1])\n",
    "    y_scores = np.append(y_scores, sim)"
   ]
  },
  {
   "cell_type": "code",
   "execution_count": 53,
   "id": "812acfba",
   "metadata": {},
   "outputs": [],
   "source": [
    "j=0\n",
    "while(j < len_not):\n",
    "    y_true = np.append(y_true, 0)\n",
    "    sim = model.wv.similarity(edge_not_exit[i][0], edge_not_exit[i][1])\n",
    "    y_scores = np.append(y_scores, sim)\n",
    "    j += 300"
   ]
  },
  {
   "cell_type": "code",
   "execution_count": 55,
   "id": "64fec717",
   "metadata": {},
   "outputs": [
    {
     "name": "stdout",
     "output_type": "stream",
     "text": [
      "0.9809599365331217\n"
     ]
    }
   ],
   "source": [
    "print(roc_auc_score(y_true, y_scores))"
   ]
  },
  {
   "cell_type": "code",
   "execution_count": null,
   "id": "2d1d74f5",
   "metadata": {},
   "outputs": [],
   "source": []
  }
 ],
 "metadata": {
  "kernelspec": {
   "display_name": "Python 3 (ipykernel)",
   "language": "python",
   "name": "python3"
  },
  "language_info": {
   "codemirror_mode": {
    "name": "ipython",
    "version": 3
   },
   "file_extension": ".py",
   "mimetype": "text/x-python",
   "name": "python",
   "nbconvert_exporter": "python",
   "pygments_lexer": "ipython3",
   "version": "3.7.11"
  }
 },
 "nbformat": 4,
 "nbformat_minor": 5
}
