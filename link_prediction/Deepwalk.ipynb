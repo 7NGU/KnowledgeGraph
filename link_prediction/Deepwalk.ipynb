{
 "cells": [
  {
   "cell_type": "code",
   "execution_count": 68,
   "id": "c2bf8c80",
   "metadata": {},
   "outputs": [],
   "source": [
    "import networkx as nx\n",
    "import numpy as np\n",
    "from tqdm import tqdm\n",
    "from gensim.models import word2vec\n",
    "from node2vec import Node2Vec\n",
    "from sklearn.metrics import roc_auc_score"
   ]
  },
  {
   "cell_type": "code",
   "execution_count": 34,
   "id": "ba747a46",
   "metadata": {},
   "outputs": [],
   "source": [
    "def walkOneTime(g, start_node, walk_length):\n",
    "    walk = [str(start_node)]  # 初始化游走序列\n",
    "    for _ in range(walk_length):  # 最大长度范围内进行采样\n",
    "        current_node = int(walk[-1])\n",
    "        if g.has_node(current_node):\n",
    "            successors = list(g.successors(current_node)) # graph.successor: 获取当前节点的后继邻居\n",
    "            if len(successors) > 0:\n",
    "                next_node = np.random.choice(successors, 1)\n",
    "                walk.extend([str(n) for n in next_node])\n",
    "    return walk\n",
    "\n",
    "def getDeepwalkSeqs(g, walk_length, num_walks):\n",
    "    seqs=[]\n",
    "    for _ in tqdm(range(num_walks)):\n",
    "        start_node = np.random.choice(list(g.node))\n",
    "        w = walkOneTime(g,start_node, walk_length)\n",
    "        seqs.append(w)\n",
    "    return seqs\n",
    "\n",
    "def deepwalk(g, dimensions, walk_length, num_walks, min_count):\n",
    "    seqs = getDeepwalkSeqs(g, walk_length = walk_length, num_walks = num_walks)\n",
    "    model = word2vec.Word2Vec(seqs, vector_size = dimensions, min_count = min_count)\n",
    "    return model"
   ]
  },
  {
   "cell_type": "code",
   "execution_count": 84,
   "id": "ac67165e",
   "metadata": {},
   "outputs": [],
   "source": [
    "g = nx.fast_gnp_random_graph(n = 500, p = 0.5, directed=True) #快速随机生成一个有向图"
   ]
  },
  {
   "cell_type": "code",
   "execution_count": 85,
   "id": "1a67c57a",
   "metadata": {},
   "outputs": [
    {
     "name": "stderr",
     "output_type": "stream",
     "text": [
      "100%|██████████████████████████████████████| 1000/1000 [00:01<00:00, 738.70it/s]\n"
     ]
    },
    {
     "data": {
      "application/vnd.jupyter.widget-view+json": {
       "model_id": "c6276ffd1baf460a88efd1f42ec9ac12",
       "version_major": 2,
       "version_minor": 0
      },
      "text/plain": [
       "Computing transition probabilities:   0%|          | 0/500 [00:00<?, ?it/s]"
      ]
     },
     "metadata": {},
     "output_type": "display_data"
    },
    {
     "name": "stderr",
     "output_type": "stream",
     "text": [
      "Generating walks (CPU: 4): 100%|██████████| 25/25 [00:15<00:00,  1.60it/s]"
     ]
    }
   ],
   "source": [
    "model_dw = deepwalk(g, dimensions = 10, walk_length = 20, num_walks = 1000, min_count = 3)\n",
    "\n",
    "node2vec = Node2Vec(g, dimensions=10, walk_length=20, num_walks=100, p=0.3,q=0.7,workers=4)\n",
    "model_n2v = node2vec.fit()"
   ]
  },
  {
   "cell_type": "code",
   "execution_count": 86,
   "id": "dc3c2de9",
   "metadata": {},
   "outputs": [
    {
     "name": "stdout",
     "output_type": "stream",
     "text": [
      "[('213', 0.997041642665863), ('264', 0.996917724609375), ('42', 0.9967489838600159)]\n"
     ]
    }
   ],
   "source": [
    "print(model_dw.wv.most_similar('2',topn=3)) # 观察与节点2最相近的三个节点"
   ]
  },
  {
   "cell_type": "code",
   "execution_count": 87,
   "id": "ff2cde02",
   "metadata": {},
   "outputs": [
    {
     "name": "stdout",
     "output_type": "stream",
     "text": [
      "[('269', 0.9497026205062866), ('128', 0.9482324123382568), ('198', 0.9079732894897461)]\n"
     ]
    },
    {
     "name": "stderr",
     "output_type": "stream",
     "text": [
      "\n",
      "\n",
      "\n",
      "\n"
     ]
    }
   ],
   "source": [
    "print(model_n2v.wv.most_similar('2',topn=3))"
   ]
  },
  {
   "cell_type": "code",
   "execution_count": 36,
   "id": "5a2a7519",
   "metadata": {},
   "outputs": [],
   "source": [
    "node = []\n",
    "edge_train = []\n",
    "edge_test = []\n",
    "edge_exit = []\n",
    "count = 0\n",
    "with open('facebook_combined.txt', 'r') as f:\n",
    "    data = f.readlines()\n",
    "    for line in data:\n",
    "        line = tuple(line.replace('\\n', '').split(' '))\n",
    "        edge_exit.append(line)\n",
    "        \n",
    "        if line[0] not in node:\n",
    "            node.append(line[0])\n",
    "        \n",
    "        if line[1] not in node:\n",
    "            node.append(line[1])\n",
    "            \n",
    "        if(count%5 == 0):\n",
    "            edge_test.append(line)\n",
    "            count+=1\n",
    "        else:\n",
    "            edge_train.append(line)\n",
    "            count+=1"
   ]
  },
  {
   "cell_type": "code",
   "execution_count": 37,
   "id": "b7d2763e",
   "metadata": {},
   "outputs": [],
   "source": [
    "G = nx.DiGraph()\n",
    "G.add_nodes_from(node)\n",
    "G.add_edges_from(edge_train)"
   ]
  },
  {
   "cell_type": "code",
   "execution_count": 38,
   "id": "34f4bf74",
   "metadata": {},
   "outputs": [],
   "source": [
    "G_all = nx.DiGraph()\n",
    "G_all.add_nodes_from(node)\n",
    "G_all.add_edges_from(edge_exit)"
   ]
  },
  {
   "cell_type": "code",
   "execution_count": 39,
   "id": "71ae2644",
   "metadata": {},
   "outputs": [
    {
     "name": "stdout",
     "output_type": "stream",
     "text": [
      "70587\n",
      "17647\n",
      "16221248\n"
     ]
    }
   ],
   "source": [
    "edge_not_exit = list(nx.non_edges(G_all))\n",
    "\n",
    "print(len(edge_train))\n",
    "print(len(edge_test))\n",
    "print(len(edge_not_exit))"
   ]
  },
  {
   "cell_type": "code",
   "execution_count": 64,
   "id": "de6f37c6",
   "metadata": {},
   "outputs": [
    {
     "name": "stderr",
     "output_type": "stream",
     "text": [
      "100%|███████████████████████████████████| 10000/10000 [00:09<00:00, 1041.63it/s]\n"
     ]
    }
   ],
   "source": [
    "model = deepwalk(G, dimensions = 128, walk_length = 80, num_walks = 10000, min_count = 1)"
   ]
  },
  {
   "cell_type": "code",
   "execution_count": 65,
   "id": "fa6e1891",
   "metadata": {},
   "outputs": [
    {
     "name": "stdout",
     "output_type": "stream",
     "text": [
      "[('1408', 0.2991068363189697), ('462', 0.2932160496711731), ('3427', 0.28582262992858887), ('3541', 0.2841106653213501), ('2483', 0.2684030830860138)]\n"
     ]
    }
   ],
   "source": [
    "print(model.wv.most_similar('0', topn=5))"
   ]
  },
  {
   "cell_type": "code",
   "execution_count": 50,
   "id": "6416fffc",
   "metadata": {},
   "outputs": [],
   "source": [
    "len_not = len(edge_not_exit)\n",
    "len_test = len(edge_test)\n",
    "y_true = np.array([])\n",
    "y_scores = np.array([])\n",
    "\n",
    "for i in range(len_test):\n",
    "    y_true = np.append(y_true, 1)\n",
    "    sim = model.wv.similarity(edge_test[i][0], edge_test[i][1])\n",
    "    y_scores = np.append(y_scores, sim)"
   ]
  },
  {
   "cell_type": "code",
   "execution_count": 51,
   "id": "5553fd75",
   "metadata": {},
   "outputs": [],
   "source": [
    "j=0\n",
    "while(j < len_not):\n",
    "    y_true = np.append(y_true, 0)\n",
    "    sim = model.wv.similarity(edge_not_exit[i][0], edge_not_exit[i][1])\n",
    "    y_scores = np.append(y_scores, sim)\n",
    "    j += 500"
   ]
  },
  {
   "cell_type": "code",
   "execution_count": 54,
   "id": "4b75e2d6",
   "metadata": {},
   "outputs": [
    {
     "name": "stdout",
     "output_type": "stream",
     "text": [
      "0.34419448064826885\n"
     ]
    }
   ],
   "source": [
    "print(roc_auc_score(y_true, y_scores))"
   ]
  },
  {
   "cell_type": "code",
   "execution_count": null,
   "id": "434e6fe1",
   "metadata": {},
   "outputs": [],
   "source": []
  }
 ],
 "metadata": {
  "kernelspec": {
   "display_name": "Python 3 (ipykernel)",
   "language": "python",
   "name": "python3"
  },
  "language_info": {
   "codemirror_mode": {
    "name": "ipython",
    "version": 3
   },
   "file_extension": ".py",
   "mimetype": "text/x-python",
   "name": "python",
   "nbconvert_exporter": "python",
   "pygments_lexer": "ipython3",
   "version": "3.7.11"
  }
 },
 "nbformat": 4,
 "nbformat_minor": 5
}
